{
 "cells": [
  {
   "cell_type": "code",
   "execution_count": 1,
   "metadata": {},
   "outputs": [
    {
     "name": "stderr",
     "output_type": "stream",
     "text": [
      "100%|██████████| 1300/1300 [01:28<00:00, 14.62it/s]"
     ]
    },
    {
     "name": "stdout",
     "output_type": "stream",
     "text": [
      "{'changes': ['/usr/share/man/man1/rrdtool.1.gz', '/usr/share/man/man3/librrd.3.gz', '/usr/share/doc/rrdtool/html/rrdgraph_libdbi.html', '/usr/share/doc/rrdtool/examples/perftest.pl.gz', '/usr/share/man/man1/cdeftutorial.1.gz', '/usr/share/doc/rrdtool/html/rrdthreads.html', '/var/cache/man/de/31234', '/usr/share/doc/rrdtool/html/rrdlastupdate.html', '/usr/share/doc/rrdtool/html/rpntutorial.html', '/usr/share/man/man1/rrdcreate.1.gz', '/usr/share/man/man1/rrdgraph_examples.1.gz', '/usr/share/man/man1/rrdcgi.1.gz', '/var/cache/man/sv/31234', '/usr/bin/rrdtool', '/usr/share/doc/rrdtool.dpkg-new/html/rrdfetch.html', '/usr/share/man/man1/rrdflushcached.1.gz', '/var/cache/man/pl/31234', '/usr/share/doc/rrdtool/copyright', '/usr/bin/rrdinfo.dpkg-new', '/usr/share/doc/rrdtool.dpkg-new/html/rrdgraph_examples.html', '/usr/share/doc/rrdtool.dpkg-new/copyright', '/usr/share/doc/rrdtool.dpkg-new/html/rrdinfo.html', '/usr/share/man/man1/rrdfetch.1.gz', '/var/lib/dpkg/tmp.ci/control', '/usr/share/man/man1/rrdtool.1.gz.dpkg-new', '/var/lib/dpkg/updates/0005', '/usr/share/doc/rrdtool/html/RRDp.html', '/var/lib/dpkg/updates/tmp.i', '/usr/share/doc/rrdtool.dpkg-new/html/rrdgraph_rpn.html', '/usr/share/man/man1/rrdfirst.1.gz.dpkg-new', '/usr/share/doc/rrdtool.dpkg-new/html/RRDs.html', '/usr/share/doc/rrdtool/html/rrdlast.html', '/usr/share/doc/rrdtool.dpkg-new/html/rrddump.html', '/var/lib/dpkg/status-new', '/usr/bin/rrdcreate', '/usr/share/doc/rrdtool/examples/ifOctets.tcl', '/usr/share/doc/rrdtool.dpkg-new/NEWS.gz', '/usr/share/doc/rrdtool/html/rrdinfo.html', '/usr/share/doc/rrdtool.dpkg-new/examples/piped-demo.pl.gz', '/usr/share/doc/rrdtool.dpkg-new/examples/bigtops.pl', '/var/cache/man/ja/31234', '/var/cache/man/pt/31234', '/usr/share/doc/rrdtool/html/bin_dec_hex.html', '/usr/share/doc/rrdtool/CONTRIBUTORS.gz', '/usr/share/doc/rrdtool.dpkg-new/html/rrdtool.html', '/usr/share/doc-base/rrdtool.dpkg-new', '/usr/share/man/man1/rrdgraph_libdbi.1.gz', '/var/cache/man/es/31234', '/usr/share/doc/rrdtool/html/rrdupdate.html', '/usr/share/doc/rrdtool/html/rrdbuild.html', '/var/cache/man/fr/31234', '/usr/share/doc/rrdtool/html/rrdrestore.html', '/usr/share/doc/rrdtool.dpkg-new/html/rrdupdate.html', '/usr/share/man/man3/librrd.3.gz.dpkg-new', '/usr/share/man/man1/bin_dec_hex.1.gz.dpkg-new', '/usr/share/doc/rrdtool/examples/4charts.pl', '/usr/share/doc/rrdtool/html/rrdgraph_graph.html', '/usr/share/doc/rrdtool/html/index.html', '/var/log/auth.log', '/usr/share/man/man1/rrddump.1.gz', '/usr/share/doc/rrdtool.dpkg-new/NEWS.Debian.gz', '/usr/share/doc/rrdtool.dpkg-new/html/rrd-beginners.html', '/usr/share/doc/rrdtool.dpkg-new/html/rrdtune.html', '/usr/share/man/man1/rpntutorial.1.gz', '/usr/share/doc/rrdtool/html/rrdcached.html', '/usr/share/doc/rrdtool/examples/cgi-demo.cgi', '/usr/bin/rrdinfo', '/usr/share/doc/rrdtool.dpkg-new/examples/test.rb', '/usr/share/doc/rrdtool/README.Debian', '/usr/share/doc/rrdtool/examples/test.rb', '/usr/share/doc/rrdtool/html/rrdgraph_data.html', '/usr/share/doc/rrdtool.dpkg-new/html/rrdxport.html', '/usr/share/man/man1/rrdbuild.1.gz.dpkg-new', '/usr/share/man/man1/rrdupdate.1.gz', '/var/lib/dpkg/tmp.ci/md5sums', '/usr/share/man/man1/rrdthreads.1.gz.dpkg-new', '/usr/share/doc/rrdtool/html/rrdfirst.html', '/usr/share/man/man1/rrdinfo.1.gz', '/usr/share/man/man1/rrdgraph_data.1.gz.dpkg-new', '/usr/share/man/man1/bin_dec_hex.1.gz', '/usr/share/man/man1/rrd-beginners.1.gz.dpkg-new', '/var/lib/dpkg/lock', '/usr/share/man/man1/rrdcreate.1.gz.dpkg-new', '/usr/share/doc/rrdtool/html/rrdcreate.html', '/usr/share/doc/rrdtool.dpkg-new/CONTRIBUTORS.gz', '/usr/share/doc/rrdtool.dpkg-new/examples/stripes.pl', '/var/lib/dpkg/status-old', '/usr/share/man/man1/rrdlast.1.gz.dpkg-new', '/usr/bin/rrdupdate.dpkg-new', '/usr/share/doc/rrdtool.dpkg-new/html/rrdbuild.html', '/usr/share/man/man1/rrdlastupdate.1.gz', '/var/lib/update-notifier/dpkg-run-stamp', '/usr/share/doc/rrdtool.dpkg-new/examples/perftest.pl.gz', '/usr/share/doc/rrdtool.dpkg-new/html/rrdgraph_libdbi.html', '/usr/share/doc/rrdtool.dpkg-new/examples/minmax.pl', '/var/lib/dpkg/updates/0004', '/var/lib/dpkg/info/rrdtool.md5sums', '/var/lib/dpkg/status', '/usr/share/doc/rrdtool/html/RRDs.html', '/usr/share/doc/rrdtool.dpkg-new/html/rrdlast.html', '/usr/share/doc/rrdtool.dpkg-new/html/cdeftutorial.html', '/var/cache/man/hu/31234', '/usr/share/doc/rrdtool/examples/bigtops.pl', '/usr/share/doc/rrdtool/examples/piped-demo.pl.gz', '/usr/share/doc/rrdtool/html/rrdtool.html', '/usr/share/doc/rrdtool.dpkg-new/html/librrd.html', '/usr/share/man/man1/cdeftutorial.1.gz.dpkg-new', '/usr/share/man/man1/rrdrestore.1.gz.dpkg-new', '/usr/share/doc/rrdtool/html/cdeftutorial.html', '/usr/share/doc/rrdtool/html/rrdgraph.html', '/usr/share/doc/rrdtool.dpkg-new/html/rrdrestore.html', '/var/cache/man/ru/31234', '/usr/share/doc/rrdtool/examples/stripes.pl', '/usr/share/doc/rrdtool.dpkg-new/README.Debian', '/usr/share/doc/rrdtool.dpkg-new/html/rrdflushcached.html', '/var/cache/man/pt_BR/31234', '/usr/share/doc/rrdtool/NEWS.gz', '/var/lib/update-notifier/tmp.scyIJ2cHHz', '/var/cache/man/ko/31234', '/usr/share/man/man1/rrdinfo.1.gz.dpkg-new', '/usr/share/doc/rrdtool/html/rrd-beginners.html', '/usr/share/doc/rrdtool.dpkg-new/html/rrdthreads.html', '/usr/share/doc/rrdtool/html/rrdgraph_rpn.html', '/var/cache/apt/pkgcache.bin.Dhkmh3', '/usr/share/doc/rrdtool.dpkg-new/html/rrdtutorial.html', '/usr/share/man/man1/rrdgraph_libdbi.1.gz.dpkg-new', '/usr/share/man/man1/rrdflushcached.1.gz.dpkg-new', '/usr/share/man/man1/rrdthreads.1.gz', '/usr/share/man/man1/rrdgraph.1.gz.dpkg-new', '/usr/share/doc/rrdtool/html/rrdxport.html', '/usr/share/man/man1/rrdtutorial.1.gz.dpkg-new', '/var/log/dpkg.log', '/usr/share/doc/rrdtool.dpkg-new/html/rrdgraph_graph.html', '/usr/share/doc/rrdtool/examples/minmax.pl', '/usr/bin/rrdcreate.dpkg-new', '/var/cache/man/zh_TW/31234', '/var/lib/dpkg/triggers/Lock', '/usr/share/man/man1/rrdgraph_rpn.1.gz', '/usr/share/doc/rrdtool/html/rrdflushcached.html', '/usr/share/doc/rrdtool/html/rrdgraph_examples.html', '/usr/share/doc-base/rrdtool', '/var/cache/man/sr/31234', '/usr/share/man/man1/rrdgraph_graph.1.gz.dpkg-new', '/var/cache/man/fi/31234', '/usr/share/doc/rrdtool.dpkg-new/html/rpntutorial.html', '/usr/share/doc/rrdtool.dpkg-new/html/rrdfirst.html', '/usr/share/doc/rrdtool/html/rrdtune.html', '/usr/share/man/man1/rrdxport.1.gz.dpkg-new', '/var/log/apt/term.log', '/usr/share/man/man1/rrdgraph.1.gz', '/var/cache/man/index.db', '/usr/share/doc/rrdtool/html/rrddump.html', '/usr/share/man/man1/rrdgraph_rpn.1.gz.dpkg-new', '/var/lib/apt/extended_states', '/usr/share/doc/rrdtool/html/librrd.html', '/usr/share/man/man1/rrdxport.1.gz', '/usr/share/doc/rrdtool.dpkg-new/examples/4charts.pl', '/usr/bin/rrdupdate', '/usr/share/doc/rrdtool/examples/shared-demo.pl.gz', '/usr/share/doc/rrdtool/html/rrdcgi.html', '/var/lib/dpkg/updates/0002', '/usr/share/doc/rrdtool.dpkg-new/examples/cgi-demo.cgi', '/var/cache/man/tr/31234', '/usr/share/doc/rrdtool.dpkg-new/html/rrdlastupdate.html', '/usr/share/doc/rrdtool.dpkg-new/html/rrdresize.html', '/usr/share/doc/rrdtool.dpkg-new/examples/shared-demo.pl.gz', '/usr/share/doc/rrdtool.dpkg-new/html/rrdcreate.html', '/var/cache/man/sl/31234', '/usr/share/doc/rrdtool/html/rrdresize.html', '/usr/share/man/man1/rrdlastupdate.1.gz.dpkg-new', '/usr/share/man/man1/rrddump.1.gz.dpkg-new', '/usr/share/man/man1/rrdgraph_data.1.gz', '/usr/bin/rrdcgi', '/var/cache/man/cs/31234', '/usr/share/doc/rrdtool.dpkg-new/html/rrdcgi.html', '/usr/share/man/man1/rrdtune.1.gz.dpkg-new', '/usr/share/man/man1/rrdtune.1.gz', '/var/log/apt/history.log', '/usr/share/doc/rrdtool.dpkg-new/html/rrdgraph.html', '/var/cache/man/it/31234', '/usr/share/doc/rrdtool.dpkg-new/html/index.html', '/var/lib/apt/extended_states.kCIE3X', '/usr/share/man/man1/rrdcgi.1.gz.dpkg-new', '/usr/share/man/man1/rrdfetch.1.gz.dpkg-new', '/usr/share/man/man1/rrdgraph_graph.1.gz', '/var/cache/apt/pkgcache.bin', '/var/cache/man/zh_CN/31234', '/usr/share/man/man1/rrdresize.1.gz', '/usr/share/man/man1/rrdgraph_examples.1.gz.dpkg-new', '/usr/share/doc/rrdtool/html/rrdfetch.html', '/var/lib/dpkg/updates/0001', '/var/lib/dpkg/updates/0003', '/usr/share/man/man1/rrdupdate.1.gz.dpkg-new', '/usr/bin/rrdtool.dpkg-new', '/var/lib/dpkg/updates/0000', '/usr/share/doc/rrdtool.dpkg-new/html/rrdcached.html', '/usr/share/man/man1/rrdbuild.1.gz', '/var/cache/man/id/31234', '/usr/share/doc/rrdtool/changelog.Debian.gz', '/usr/share/doc/rrdtool.dpkg-new/examples/ifOctets.tcl', '/usr/share/man/man1/rrdresize.1.gz.dpkg-new', '/usr/share/doc/rrdtool/NEWS.Debian.gz', '/usr/bin/rrdcgi.dpkg-new', '/usr/share/man/man1/rrd-beginners.1.gz', '/usr/share/doc/rrdtool/html/rrdtutorial.html', '/usr/share/man/man1/rrdrestore.1.gz', '/var/cache/man/nl/31234', '/usr/share/man/man1/rrdfirst.1.gz', '/var/cache/man/da/31234', '/usr/share/man/man1/rrdlast.1.gz', '/var/lib/dpkg/info/rrdtool.list', '/usr/share/doc/rrdtool.dpkg-new/changelog.Debian.gz', '/usr/share/doc/rrdtool.dpkg-new/html/bin_dec_hex.html', '/usr/share/man/man1/rrdtutorial.1.gz', '/usr/share/doc/rrdtool.dpkg-new/html/RRDp.html', '/var/cache/man/31234', '/usr/share/doc/rrdtool.dpkg-new/html/rrdgraph_data.html', '/usr/share/man/man1/rpntutorial.1.gz.dpkg-new', '/var/lib/dpkg/info/rrdtool.list-new'], 'label': 'rrdtool', 'tags': ['man:140', 'rrdtool.:58', 'rrdt:121', 'rrd:215', 'librrd.:4', 'rrdgraph_libdbi.:4', 'rrdgraph_:20', 'rrdgraph:24', 'cdeftutorial.:4', 'rrdthreads.:4', 'rrdlastupdate.:4', 'rrdlast:8', 'rpntutorial.:4', 'rrdcreate.:5', 'rrdc:14', 'rrdgraph_examples.:4', 'rrdcgi.:5', 'rrdfetch.:4', 'rrdf:12', 'rrdflushcached.:4', 'rrdinfo.:5', 'dpkg:19', 'tmp.:4', 'update:9', '000:6', 'RRD:4', 'rrdgraph_rpn.:4', 'rrdfirst.:4', 'rrdlast.:4', 'rrddump.:4', 'status-:2', 'bin_dec_hex.:4', 'rrdupdate.:5', 'rrdbuild.:4', 'rrdrestore.:4', 'rrdres:8', 'rrdgraph_graph.:4', 'index.:3', 'rrd-beginners.:4', 'rrdtune.:4', 'rrdtu:8', 'rrdgraph_data.:4', 'rrdxport.:4', 'rrdgraph.:4', 'rrdtutorial.:4', 'zh_:2', 'rrdresize.:4'], 'version': '1.5.5-4'}\n"
     ]
    },
    {
     "name": "stderr",
     "output_type": "stream",
     "text": [
      "\n"
     ]
    }
   ],
   "source": [
    "# get some hybsets \n",
    "from os import listdir\n",
    "from os.path import isfile, join\n",
    "import yaml\n",
    "from tqdm import tqdm\n",
    "\n",
    "# load data (examples of chrony)\n",
    "hyb_dir = \"/home/ubuntu/praxi/fall2019/data/version_hybsets\"\n",
    "hybset_fnames = [f for f in listdir(hyb_dir) if isfile(join(hyb_dir, f))]\n",
    "\n",
    "hyb_dics = [] \n",
    "for hyb_name in tqdm(hybset_fnames):\n",
    "        full_hyb_name = hyb_dir + '/' + hyb_name\n",
    "        with open(full_hyb_name, 'r') as stream:\n",
    "            hyb_dic = yaml.safe_load(stream)\n",
    "        hyb_dics.append(hyb_dic)\n",
    "        \n",
    "print(hyb_dics[0])"
   ]
  },
  {
   "cell_type": "code",
   "execution_count": 5,
   "metadata": {},
   "outputs": [
    {
     "name": "stdout",
     "output_type": "stream",
     "text": [
      "140\n"
     ]
    }
   ],
   "source": [
    "# for one tagset, get most frequent tag\n",
    "dic_tags = hyb_dics[0]['tags']\n",
    "tag_freq_list = []\n",
    "for tag in dic_tags:\n",
    "    tag_split = tag.split(':')\n",
    "    tag_freq_list.append((tag_split[0], int(tag_split[1])))\n",
    "print(tag_freq_list[0])"
   ]
  },
  {
   "cell_type": "code",
   "execution_count": 7,
   "metadata": {},
   "outputs": [
    {
     "name": "stdout",
     "output_type": "stream",
     "text": [
      "('rrd', 215)\n"
     ]
    }
   ],
   "source": [
    "from operator import itemgetter\n",
    "#data = [('abc', 121),('abc', 231),('abc', 148), ('abc',221)]\n",
    "sorted_list = sorted(tag_freq_list,key=itemgetter(1), reverse=True)\n",
    "print(sorted_list[0::3])"
   ]
  },
  {
   "cell_type": "code",
   "execution_count": 10,
   "metadata": {},
   "outputs": [
    {
     "name": "stdout",
     "output_type": "stream",
     "text": [
      "[('rrd', 215), ('man', 140), ('rrdt', 121), ('rrdtool.', 58), ('rrdgraph', 24)]\n"
     ]
    }
   ],
   "source": [
    "print(sorted_list[0:5])"
   ]
  },
  {
   "cell_type": "code",
   "execution_count": 12,
   "metadata": {},
   "outputs": [
    {
     "name": "stderr",
     "output_type": "stream",
     "text": [
      "100%|██████████| 30/30 [00:01<00:00, 21.65it/s]"
     ]
    },
    {
     "name": "stdout",
     "output_type": "stream",
     "text": [
      "['/var/cache/debconf/templates.dat-new', '/var/cache/man/hu/21009', '/var/lib/dpkg/updates/0007', '/usr/share/man/man1/chrony.1.gz.dpkg-new', '/etc/ppp/ip-down.d/chrony.dpkg-new', '/var/cache/man/pt_BR/21009', '/var/cache/man/fi/21009', '/etc/cron.weekly/chrony.dpkg-new', '/usr/share/doc/chrony/faq.txt.gz.dpkg-new', '/usr/sbin/chronyd', '/var/cache/debconf/templates.dat-old', '/var/lib/dpkg/info/chrony.list-new', '/var/lib/dpkg/updates/0005', '/usr/share/doc/chrony/chrony.txt.gz.dpkg-new', '/usr/share/man/man8/chronyd.8.gz', '/usr/share/doc/chrony.dpkg-new/README.Debian', '/usr/share/chrony.dpkg-new/chrony.conf', '/var/lib/dpkg/tmp.ci/prerm', '/var/lib/dpkg/updates/0001', '/var/lib/dpkg/info/chrony.postinst', '/usr/share/doc/chrony/chrony.html', '/usr/share/doc/chrony/copyright', '/var/cache/man/gl/21009', '/var/lib/dpkg/lock', '/var/log/dpkg.log', '/usr/share/man/man1/chrony.1.gz', '/var/lib/dpkg/tmp.ci/md5sums', '/var/log/apt/history.log', '/var/lib/dpkg/available', '/var/cache/man/index.db', '/usr/share/doc/chrony/changelog.Debian.gz', '/usr/share/man/man1/chronyc.1.gz.dpkg-new', '/usr/share/doc-base/chrony', '/var/lib/dpkg/info/chrony.list', '/var/log/apt/term.log', '/var/cache/man/zh_CN/21009', '/usr/share/doc/chrony.dpkg-new/chrony.html', '/var/lib/dpkg/updates/0004', '/usr/share/doc/chrony/chrony.txt.gz', '/etc/apm/event.d/01chrony.dpkg-new', '/var/cache/man/sl/21009', '/usr/share/man/man8/chronyd.8.gz.dpkg-new', '/var/lib/dpkg/tmp.ci/control', '/var/cache/man/sv/21009', '/var/lib/dpkg/available-new', '/usr/share/menu/chrony.dpkg-new', '/usr/bin/chronyc', '/var/cache/man/id/21009', '/var/lib/dpkg/updates/0002', '/var/cache/debconf/templates.dat', '/var/log/syslog', '/var/lib/dpkg/status-new', '/var/lib/dpkg/triggers/Lock', '/var/lib/dpkg/tmp.ci/conffiles', '/var/cache/man/ru/21009', '/etc/chrony/chrony.conf.new', '/var/lib/dpkg/updates/0006', '/usr/share/doc/chrony.dpkg-new/copyright', '/usr/share/man/man5/chrony.conf.5.gz', '/var/cache/man/da/21009', '/var/log/auth.log', '/usr/bin/chronyc.dpkg-new', '/var/lib/dpkg/info/chrony.md5sums', '/var/lib/dpkg/info/chrony.postrm', '/usr/share/doc/chrony/chrony.html.dpkg-new', '/usr/share/doc/chrony.dpkg-new/README.gz', '/var/cache/man/ko/21009', '/var/lib/dpkg/updates/0000', '/var/cache/man/zh_TW/21009', '/usr/share/doc/chrony.dpkg-new/changelog.Debian.gz', '/var/lib/dpkg/updates/0003', '/usr/share/doc/chrony/README.Debian', '/var/cache/man/ja/21009', '/usr/share/man/man5/chrony.conf.5.gz.dpkg-new', '/var/lib/dpkg/updates/0008', '/usr/share/doc/chrony/copyright.dpkg-new', '/usr/share/doc/chrony/README.gz', '/usr/share/chrony/chrony.conf', '/var/cache/man/pt/21009', '/var/lib/dpkg/tmp.ci/postinst', '/var/cache/man/21009', '/var/lib/dpkg/info/chrony.prerm', '/usr/share/doc/chrony/README.Debian.dpkg-new', '/usr/share/doc/chrony/faq.txt.gz', '/var/cache/man/pl/21009', '/var/lib/dpkg/updates/0009', '/var/cache/man/nl/21009', '/usr/share/doc-base/chrony.dpkg-new', '/etc/init.d/chrony.dpkg-new', '/var/lib/dpkg/status', '/usr/share/chrony/chrony.conf.dpkg-new', '/usr/share/menu/chrony', '/usr/share/doc/chrony/README.gz.dpkg-new', '/var/cache/man/tr/21009', '/usr/share/man/man1/chronyc.1.gz', '/var/lib/dpkg/tmp.ci/postrm', '/usr/sbin/chronyd.dpkg-new', '/usr/share/doc/chrony.dpkg-new/chrony.txt.gz', '/var/lib/dpkg/info/chrony.conffiles', '/var/lib/dpkg/updates/tmp.i', '/etc/ppp/ip-up.d/chrony.dpkg-new', '/var/lib/dpkg/available-old', '/var/cache/man/fr/21009', '/var/cache/man/de/21009', '/var/log/chrony/tracking.log', '/var/lib/dpkg/status-old', '/usr/share/doc/chrony.dpkg-new/faq.txt.gz', '/var/cache/man/cs/21009', '/var/cache/man/it/21009', '/usr/share/doc/chrony/changelog.Debian.gz.dpkg-new', '/var/cache/man/es/21009']\n"
     ]
    },
    {
     "name": "stderr",
     "output_type": "stream",
     "text": [
      "\n"
     ]
    }
   ],
   "source": [
    "chrony_dir = \"/home/ubuntu/praxi/fall2019/data/prelim_data\"\n",
    "chrony_fnames = [f for f in listdir(chrony_dir) if isfile(join(chrony_dir, f))]\n",
    "\n",
    "chrony_dics = [] \n",
    "for chrony_name in tqdm(chrony_fnames):\n",
    "        full_chrony_name = chrony_dir + '/' + chrony_name\n",
    "        with open(full_chrony_name, 'r') as stream:\n",
    "            chrony_dic = yaml.safe_load(stream)\n",
    "        chrony_dics.append(chrony_dic)\n",
    "        \n",
    "changes = []\n",
    "labels = []\n",
    "for dic in chrony_dics:\n",
    "    changes.append(dic[\"changes\"])\n",
    "    labels.append(dic[\"version\"])\n",
    "    \n",
    "print(changes[0])"
   ]
  },
  {
   "cell_type": "code",
   "execution_count": 17,
   "metadata": {},
   "outputs": [],
   "source": [
    "# trying a different rule-based method \n",
    "from collections import OrderedDict\n",
    "from orderedset import OrderedSet\n",
    "import yaml\n",
    "\n",
    "def fit(X, y): # X is list of lists, little lists have tags, y are VERSIONS\n",
    "    label_to_tokens = transform_tagsets(X, y)\n",
    "    labels = label_to_tokens.keys()\n",
    "    #print(label_to_tokens)\n",
    "    #input(\"Enter to continue...\")\n",
    "    # get inverse map\n",
    "    rules = {}\n",
    "    #for l in labels: \n",
    "    #    rules[l]=[]\n",
    "    token_to_labels = get_token_to_labels(label_to_tokens)\n",
    "    for token in token_to_labels.keys():\n",
    "        if len(token_to_labels[token]) == 1:\n",
    "            if token_to_labels[token][0] not in rules: # only take one rule \n",
    "                rules[token_to_labels[token][0]] = token  \n",
    "    return rules\n",
    "\n",
    "def transform_tagsets(tagsets, labels, take_max=False):  # Changesets as dictionaries\n",
    "    res = OrderedDict()\n",
    "    for data, label in zip(tagsets, labels):\n",
    "        for token in data:\n",
    "            if label not in res:\n",
    "                res[label] = OrderedDict()\n",
    "            if token not in res[label]:\n",
    "                res[label][token] = 1\n",
    "            else:\n",
    "                res[label][token] += 1\n",
    "    newres = dict()\n",
    "    for label in res:\n",
    "        newres[label] = set()\n",
    "        maxval = max(res[label].values())\n",
    "        for token in sorted(res[label], key=res[label].get, reverse=True):\n",
    "            if res[label][token] < (maxval - 6):\n",
    "                break\n",
    "            newres[label].add(token)\n",
    "    return newres\n",
    "\n",
    "def get_token_to_labels(label_to_tokens):\n",
    "    \"\"\" Returns inverse map: from tokens to sets of labels \"\"\"\n",
    "    token_to_labels = OrderedDict()\n",
    "    for label in label_to_tokens:\n",
    "        for token in label_to_tokens[label]:\n",
    "            if token not in token_to_labels:\n",
    "                token_to_labels[token] = OrderedSet()\n",
    "            token_to_labels[token].add(label)\n",
    "    return token_to_labels"
   ]
  },
  {
   "cell_type": "code",
   "execution_count": 18,
   "metadata": {},
   "outputs": [],
   "source": [
    "rules = fit(changes, labels)"
   ]
  },
  {
   "cell_type": "code",
   "execution_count": 19,
   "metadata": {},
   "outputs": [
    {
     "name": "stdout",
     "output_type": "stream",
     "text": [
      "{'1.29-1ubuntu0.1': '/usr/share/doc/chrony/chrony.txt.gz.dpkg-new', '2.1.1-1ubuntu0.1': '/var/log/chrony/statistics.log', '3.2-4ubuntu4.2': '/var/cache/man/da/CACHEDIR.TAG'}\n"
     ]
    }
   ],
   "source": [
    "print(rules)"
   ]
  },
  {
   "cell_type": "code",
   "execution_count": null,
   "metadata": {},
   "outputs": [],
   "source": []
  }
 ],
 "metadata": {
  "kernelspec": {
   "display_name": "Python 3",
   "language": "python",
   "name": "python3"
  },
  "language_info": {
   "codemirror_mode": {
    "name": "ipython",
    "version": 3
   },
   "file_extension": ".py",
   "mimetype": "text/x-python",
   "name": "python",
   "nbconvert_exporter": "python",
   "pygments_lexer": "ipython3",
   "version": "3.6.8"
  }
 },
 "nbformat": 4,
 "nbformat_minor": 2
}
