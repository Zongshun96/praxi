{
 "cells": [
  {
   "cell_type": "code",
   "execution_count": 5,
   "metadata": {},
   "outputs": [
    {
     "name": "stderr",
     "output_type": "stream",
     "text": [
      "100%|██████████| 30/30 [00:01<00:00, 24.32it/s]"
     ]
    },
    {
     "name": "stdout",
     "output_type": "stream",
     "text": [
      "{'changes': ['/var/cache/debconf/templates.dat-new', '/var/cache/man/hu/21009', '/var/lib/dpkg/updates/0007', '/usr/share/man/man1/chrony.1.gz.dpkg-new', '/etc/ppp/ip-down.d/chrony.dpkg-new', '/var/cache/man/pt_BR/21009', '/var/cache/man/fi/21009', '/etc/cron.weekly/chrony.dpkg-new', '/usr/share/doc/chrony/faq.txt.gz.dpkg-new', '/usr/sbin/chronyd', '/var/cache/debconf/templates.dat-old', '/var/lib/dpkg/info/chrony.list-new', '/var/lib/dpkg/updates/0005', '/usr/share/doc/chrony/chrony.txt.gz.dpkg-new', '/usr/share/man/man8/chronyd.8.gz', '/usr/share/doc/chrony.dpkg-new/README.Debian', '/usr/share/chrony.dpkg-new/chrony.conf', '/var/lib/dpkg/tmp.ci/prerm', '/var/lib/dpkg/updates/0001', '/var/lib/dpkg/info/chrony.postinst', '/usr/share/doc/chrony/chrony.html', '/usr/share/doc/chrony/copyright', '/var/cache/man/gl/21009', '/var/lib/dpkg/lock', '/var/log/dpkg.log', '/usr/share/man/man1/chrony.1.gz', '/var/lib/dpkg/tmp.ci/md5sums', '/var/log/apt/history.log', '/var/lib/dpkg/available', '/var/cache/man/index.db', '/usr/share/doc/chrony/changelog.Debian.gz', '/usr/share/man/man1/chronyc.1.gz.dpkg-new', '/usr/share/doc-base/chrony', '/var/lib/dpkg/info/chrony.list', '/var/log/apt/term.log', '/var/cache/man/zh_CN/21009', '/usr/share/doc/chrony.dpkg-new/chrony.html', '/var/lib/dpkg/updates/0004', '/usr/share/doc/chrony/chrony.txt.gz', '/etc/apm/event.d/01chrony.dpkg-new', '/var/cache/man/sl/21009', '/usr/share/man/man8/chronyd.8.gz.dpkg-new', '/var/lib/dpkg/tmp.ci/control', '/var/cache/man/sv/21009', '/var/lib/dpkg/available-new', '/usr/share/menu/chrony.dpkg-new', '/usr/bin/chronyc', '/var/cache/man/id/21009', '/var/lib/dpkg/updates/0002', '/var/cache/debconf/templates.dat', '/var/log/syslog', '/var/lib/dpkg/status-new', '/var/lib/dpkg/triggers/Lock', '/var/lib/dpkg/tmp.ci/conffiles', '/var/cache/man/ru/21009', '/etc/chrony/chrony.conf.new', '/var/lib/dpkg/updates/0006', '/usr/share/doc/chrony.dpkg-new/copyright', '/usr/share/man/man5/chrony.conf.5.gz', '/var/cache/man/da/21009', '/var/log/auth.log', '/usr/bin/chronyc.dpkg-new', '/var/lib/dpkg/info/chrony.md5sums', '/var/lib/dpkg/info/chrony.postrm', '/usr/share/doc/chrony/chrony.html.dpkg-new', '/usr/share/doc/chrony.dpkg-new/README.gz', '/var/cache/man/ko/21009', '/var/lib/dpkg/updates/0000', '/var/cache/man/zh_TW/21009', '/usr/share/doc/chrony.dpkg-new/changelog.Debian.gz', '/var/lib/dpkg/updates/0003', '/usr/share/doc/chrony/README.Debian', '/var/cache/man/ja/21009', '/usr/share/man/man5/chrony.conf.5.gz.dpkg-new', '/var/lib/dpkg/updates/0008', '/usr/share/doc/chrony/copyright.dpkg-new', '/usr/share/doc/chrony/README.gz', '/usr/share/chrony/chrony.conf', '/var/cache/man/pt/21009', '/var/lib/dpkg/tmp.ci/postinst', '/var/cache/man/21009', '/var/lib/dpkg/info/chrony.prerm', '/usr/share/doc/chrony/README.Debian.dpkg-new', '/usr/share/doc/chrony/faq.txt.gz', '/var/cache/man/pl/21009', '/var/lib/dpkg/updates/0009', '/var/cache/man/nl/21009', '/usr/share/doc-base/chrony.dpkg-new', '/etc/init.d/chrony.dpkg-new', '/var/lib/dpkg/status', '/usr/share/chrony/chrony.conf.dpkg-new', '/usr/share/menu/chrony', '/usr/share/doc/chrony/README.gz.dpkg-new', '/var/cache/man/tr/21009', '/usr/share/man/man1/chronyc.1.gz', '/var/lib/dpkg/tmp.ci/postrm', '/usr/sbin/chronyd.dpkg-new', '/usr/share/doc/chrony.dpkg-new/chrony.txt.gz', '/var/lib/dpkg/info/chrony.conffiles', '/var/lib/dpkg/updates/tmp.i', '/etc/ppp/ip-up.d/chrony.dpkg-new', '/var/lib/dpkg/available-old', '/var/cache/man/fr/21009', '/var/cache/man/de/21009', '/var/log/chrony/tracking.log', '/var/lib/dpkg/status-old', '/usr/share/doc/chrony.dpkg-new/faq.txt.gz', '/var/cache/man/cs/21009', '/var/cache/man/it/21009', '/usr/share/doc/chrony/changelog.Debian.gz.dpkg-new', '/var/cache/man/es/21009'], 'label': 'chrony', 'tags': ['templates.dat-:2', 'man:40', '000:10', 'chrony.:35', 'chrony:63', 'ip-:2', 'chronyd.:3', 'README.:6', 'chrony.conf:7', 'tmp.:7', 'chrony.post:2', 'chrony.p:3', 'chronyc.:3', 'zh_:2', 'con:2', 'available-:2', 'status-:2', 'chrony.conf.:4'], 'version': '1.29-1ubuntu0.1'}\n"
     ]
    },
    {
     "name": "stderr",
     "output_type": "stream",
     "text": [
      "\n"
     ]
    }
   ],
   "source": [
    "# Test preliminary rule-generation method for ONE application\n",
    "from os import listdir\n",
    "from os.path import isfile, join\n",
    "import yaml\n",
    "from tqdm import tqdm\n",
    "\n",
    "# load data (examples of chrony)\n",
    "hyb_dir = \"/home/ubuntu/praxi/fall2019/data/prelim_data\"\n",
    "hybset_fnames = [f for f in listdir(hyb_dir) if isfile(join(hyb_dir, f))]\n",
    "\n",
    "hyb_dics = [] \n",
    "for hyb_name in tqdm(hybset_fnames):\n",
    "        full_hyb_name = hyb_dir + '/' + hyb_name\n",
    "        with open(full_hyb_name, 'r') as stream:\n",
    "            hyb_dic = yaml.safe_load(stream)\n",
    "        hyb_dics.append(hyb_dic)\n",
    "        \n",
    "print(hyb_dics[0])\n",
    "\n"
   ]
  },
  {
   "cell_type": "code",
   "execution_count": 9,
   "metadata": {},
   "outputs": [
    {
     "name": "stdout",
     "output_type": "stream",
     "text": [
      "['1.29-1ubuntu0.1', '2.1.1-1ubuntu0.1', '3.2-4ubuntu4.2']\n",
      "30\n"
     ]
    }
   ],
   "source": [
    "# separate by label (already all one app), create tuples?\n",
    "# also have list of all changes\n",
    "all_changes = []\n",
    "sep_changes = [ [] for i in range(3) ]\n",
    "corr_versions = []\n",
    "\n",
    "for dic in hyb_dics:\n",
    "    if dic['version'] not in corr_versions:\n",
    "        # add this version to the version list\n",
    "        corr_versions.append(dic['version'])\n",
    "    sep_changes[corr_versions.index(dic['version'])].append(set(dic['changes']))\n",
    "    all_changes.append(set(dic['changes']))\n",
    "    \n",
    "print(corr_versions)\n",
    "print(len(all_changes))\n"
   ]
  },
  {
   "cell_type": "code",
   "execution_count": 12,
   "metadata": {},
   "outputs": [
    {
     "name": "stdout",
     "output_type": "stream",
     "text": [
      "{'/var/lib/dpkg/status', '/var/lib/dpkg/info/chrony.postinst', '/usr/bin/chronyc', '/usr/share/doc/chrony/copyright', '/var/log/auth.log', '/var/lib/dpkg/updates/0008', '/var/lib/dpkg/info/chrony.prerm', '/var/cache/debconf/templates.dat-old', '/usr/share/doc/chrony/changelog.Debian.gz', '/var/cache/debconf/templates.dat-new', '/usr/sbin/chronyd', '/var/cache/man/index.db', '/var/log/apt/term.log', '/usr/share/man/man1/chronyc.1.gz.dpkg-new', '/var/lib/dpkg/tmp.ci/md5sums', '/var/lib/dpkg/info/chrony.list', '/var/lib/dpkg/updates/0002', '/var/cache/debconf/templates.dat', '/var/lib/dpkg/tmp.ci/prerm', '/usr/share/man/man8/chronyd.8.gz', '/var/lib/dpkg/lock', '/usr/share/chrony/chrony.conf', '/var/log/apt/history.log', '/var/lib/dpkg/tmp.ci/postinst', '/var/lib/dpkg/tmp.ci/postrm', '/var/lib/dpkg/updates/0007', '/usr/share/man/man1/chronyc.1.gz', '/var/lib/dpkg/tmp.ci/control', '/var/lib/dpkg/status-new', '/usr/share/doc/chrony.dpkg-new/copyright', '/usr/sbin/chronyd.dpkg-new', '/usr/share/doc/chrony.dpkg-new/README.Debian', '/var/lib/dpkg/updates/tmp.i', '/var/lib/dpkg/updates/0003', '/var/lib/dpkg/updates/0005', '/var/lib/dpkg/updates/0004', '/etc/init.d/chrony.dpkg-new', '/usr/share/man/man8/chronyd.8.gz.dpkg-new', '/var/lib/dpkg/updates/0000', '/var/lib/dpkg/info/chrony.md5sums', '/var/log/dpkg.log', '/var/lib/dpkg/updates/0006', '/var/lib/dpkg/updates/0009', '/etc/ppp/ip-up.d/chrony.dpkg-new', '/var/lib/dpkg/info/chrony.list-new', '/etc/ppp/ip-down.d/chrony.dpkg-new', '/usr/share/man/man5/chrony.conf.5.gz', '/var/lib/dpkg/updates/0001', '/usr/share/doc/chrony/README.gz', '/usr/share/doc/chrony/README.Debian', '/var/lib/dpkg/info/chrony.postrm', '/usr/bin/chronyc.dpkg-new', '/var/log/syslog', '/var/lib/dpkg/info/chrony.conffiles', '/usr/share/doc/chrony.dpkg-new/changelog.Debian.gz', '/usr/share/chrony.dpkg-new/chrony.conf', '/var/lib/dpkg/status-old', '/usr/share/doc/chrony.dpkg-new/README.gz', '/var/lib/dpkg/tmp.ci/conffiles', '/usr/share/man/man5/chrony.conf.5.gz.dpkg-new', '/var/lib/dpkg/triggers/Lock'}\n"
     ]
    }
   ],
   "source": [
    "# find intersection of ALL changes\n",
    "#s.intersection_update(t)\n",
    "intersection = all_changes[0]\n",
    "for idx in range(1, len(all_changes)):\n",
    "    #intersection.insersection_update(all_changes[idx])\n",
    "    intersection &= all_changes[idx]\n",
    "    \n",
    "print(intersection)"
   ]
  },
  {
   "cell_type": "code",
   "execution_count": 14,
   "metadata": {},
   "outputs": [
    {
     "name": "stdout",
     "output_type": "stream",
     "text": [
      "61 61\n"
     ]
    }
   ],
   "source": []
  },
  {
   "cell_type": "code",
   "execution_count": 15,
   "metadata": {},
   "outputs": [
    {
     "name": "stdout",
     "output_type": "stream",
     "text": [
      "111\n",
      "50\n",
      "111\n",
      "50\n",
      "116\n",
      "55\n",
      "103\n",
      "42\n",
      "111\n",
      "50\n",
      "103\n",
      "42\n",
      "103\n",
      "42\n",
      "103\n",
      "42\n",
      "111\n",
      "50\n",
      "107\n",
      "46\n",
      "117\n",
      "56\n",
      "117\n",
      "56\n",
      "126\n",
      "65\n",
      "117\n",
      "56\n",
      "117\n",
      "56\n",
      "117\n",
      "56\n",
      "117\n",
      "56\n",
      "126\n",
      "65\n",
      "117\n",
      "56\n",
      "117\n",
      "56\n",
      "167\n",
      "106\n",
      "169\n",
      "108\n",
      "178\n",
      "117\n",
      "168\n",
      "107\n",
      "167\n",
      "106\n",
      "167\n",
      "106\n",
      "178\n",
      "117\n",
      "178\n",
      "117\n",
      "167\n",
      "106\n",
      "178\n",
      "117\n"
     ]
    }
   ],
   "source": [
    "# test if it worked properly\n",
    "count = 0\n",
    "for el in intersection:\n",
    "    if el in all_changes[5]:\n",
    "        count += 1\n",
    "print(len(intersection), count)\n",
    "\n",
    "# remove intersection from all sets\n",
    "for l in sep_changes:\n",
    "    for el in l:\n",
    "        el -= intersection\n"
   ]
  },
  {
   "cell_type": "code",
   "execution_count": 17,
   "metadata": {},
   "outputs": [
    {
     "name": "stdout",
     "output_type": "stream",
     "text": [
      "{'/var/lib/dpkg/available', '/usr/share/doc/chrony/chrony.txt.gz', '/usr/share/doc/chrony.dpkg-new/faq.txt.gz', '/usr/share/man/man1/chrony.1.gz.dpkg-new', '/var/log/chrony/tracking.log', '/usr/share/doc/chrony.dpkg-new/chrony.html', '/usr/share/doc-base/chrony.dpkg-new', '/etc/chrony/chrony.conf.new', '/var/lib/dpkg/available-new', '/usr/share/doc-base/chrony', '/usr/share/doc/chrony.dpkg-new/chrony.txt.gz', '/etc/cron.weekly/chrony.dpkg-new', '/usr/share/man/man1/chrony.1.gz', '/usr/share/doc/chrony/chrony.html', '/usr/share/menu/chrony.dpkg-new', '/var/lib/dpkg/available-old', '/usr/share/doc/chrony/faq.txt.gz', '/etc/apm/event.d/01chrony.dpkg-new', '/usr/share/menu/chrony'}\n",
      "{'/usr/share/doc/chrony.dpkg-new/FAQ.gz', '/var/lib/apt/extended_states', '/etc/apm/event.d/01chrony.dpkg-new', '/etc/init.d/.depend.boot', '/etc/init.d/.depend.stop', '/usr/share/doc/chrony.dpkg-new/chrony.html', '/etc/logrotate.d/chrony.dpkg-new', '/var/cache/apt/pkgcache.bin', '/usr/share/doc/chrony.dpkg-new/NEWS.Debian.gz', '/var/lib/dpkg/updates/0011', '/var/log/chrony/tracking.log.1', '/var/log/chrony/statistics.log.1', '/usr/share/doc/chrony/chrony.txt.gz', '/var/log/chrony/statistics.log', '/var/log/chrony/measurements.log', '/usr/share/doc/chrony.dpkg-new/chrony.txt.gz', '/usr/share/doc/chrony/NEWS.Debian.gz', '/var/log/chrony/measurements.log.1', '/usr/share/menu/chrony.dpkg-new', '/var/lib/systemd/deb-systemd-helper-enabled/ureadahead.service.dsh-also', '/usr/share/doc-base/chrony.dpkg-new', '/usr/share/menu/chrony', '/var/lib/dpkg/updates/0010', '/var/log/chrony/tracking.log', '/var/lib/update-notifier/dpkg-run-stamp', '/usr/share/doc-base/chrony', '/etc/init.d/.depend.start', '/usr/share/doc/chrony/chrony.html', '/usr/share/doc/chrony/FAQ.gz'}\n",
      "{'/lib/systemd/system/chrony-dnssrv@.service.dpkg-new', '/var/cache/man/ko/CACHEDIR.TAG', '/var/lib/dpkg/updates/0013', '/var/cache/man/uk/CACHEDIR.TAG', '/var/cache/man/zh_CN/CACHEDIR.TAG', '/var/cache/man/zh_TW/CACHEDIR.TAG', '/etc/network/if-up.d/chrony.dpkg-new', '/usr/share/doc/chrony.dpkg-new/FAQ.gz', '/usr/lib/systemd/scripts/chronyd-starter.sh', '/etc/apparmor.d/cache/usr.sbin.chronyd', '/var/lib/dpkg/updates/0015', '/var/lib/apt/extended_states', '/etc/systemd/system/chrony.service', '/var/lib/dpkg/updates/0016', '/lib/systemd/system/chrony-dnssrv@.timer.dpkg-new', '/var/cache/man/CACHEDIR.TAG', '/usr/lib/networkd-dispatcher/routable.d/chrony', '/etc/NetworkManager/dispatcher.d/20-chrony.dpkg-new', '/var/lib/systemd/deb-systemd-helper-enabled/chrony.service.dsh-also', '/var/log/journal/90c213c3662a46589e220665c75c823f/system.journal', '/usr/share/doc/chrony.dpkg-new/README.container', '/etc/logrotate.d/chrony.dpkg-new', '/usr/lib/chrony/chrony-helper', '/usr/share/doc/chrony/README.container', '/var/cache/man/sr/CACHEDIR.TAG', '/var/lib/dpkg/updates/0014', '/var/cache/man/nl/CACHEDIR.TAG', '/var/cache/apt/pkgcache.bin', '/usr/lib/networkd-dispatcher/off.d/chrony.dpkg-new', '/var/cache/man/hu/CACHEDIR.TAG', '/var/lib/dpkg/updates/0011', '/usr/lib/networkd-dispatcher/routable.d/chrony.dpkg-new', '/usr/share/doc/chrony.dpkg-new/NEWS.Debian.gz', '/var/cache/man/tr/CACHEDIR.TAG', '/lib/systemd/system/chrony.service', '/var/lib/systemd/deb-systemd-helper-masked/chrony.service', '/lib/systemd/system/chrony-dnssrv@.timer', '/etc/default/chrony.dpkg-new', '/var/cache/man/ru/CACHEDIR.TAG', '/var/log/kern.log', '/var/cache/man/cs/CACHEDIR.TAG', '/var/cache/man/pt_BR/CACHEDIR.TAG', '/var/cache/man/sv/CACHEDIR.TAG', '/var/cache/man/pt/CACHEDIR.TAG', '/lib/systemd/system/chrony.service.dpkg-new', '/usr/share/lintian/overrides/chrony', '/var/cache/man/it/CACHEDIR.TAG', '/usr/lib/systemd/scripts.dpkg-new/chronyd-starter.sh', '/usr/share/doc/chrony/NEWS.Debian.gz', '/var/cache/man/fr/CACHEDIR.TAG', '/var/lib/dpkg/info/chrony.preinst', '/usr/share/chrony.dpkg-new/chrony.keys', '/usr/share/chrony/chrony.keys', '/usr/lib/networkd-dispatcher/off.d/chrony', '/var/cache/man/sl/CACHEDIR.TAG', '/usr/share/lintian/overrides/chrony.dpkg-new', '/lib/systemd/system/chrony-dnssrv@.service', '/var/cache/man/fi/CACHEDIR.TAG', '/var/lib/dpkg/updates/0012', '/var/lib/dpkg/updates/0018', '/etc/dhcp/dhclient-exit-hooks.d/chrony.dpkg-new', '/var/lib/dpkg/updates/0010', '/usr/lib/chrony.dpkg-new/chrony-helper', '/var/cache/man/de/CACHEDIR.TAG', '/var/cache/man/id/CACHEDIR.TAG', '/var/cache/man/es/CACHEDIR.TAG', '/var/lib/update-notifier/dpkg-run-stamp', '/etc/network/if-post-down.d/chrony.dpkg-new', '/var/cache/man/ja/CACHEDIR.TAG', '/etc/apparmor.d/usr.sbin.chronyd.dpkg-new', '/var/cache/man/pl/CACHEDIR.TAG', '/var/lib/dpkg/updates/0017', '/var/cache/man/da/CACHEDIR.TAG', '/usr/share/doc/chrony/FAQ.gz', '/var/log/apt/eipp.log.xz', '/var/lib/dpkg/tmp.ci/preinst'}\n"
     ]
    }
   ],
   "source": [
    "# now find intersections within list\n",
    "intersections = [ [] for i in range(len(corr_versions)) ]\n",
    "\n",
    "for j in range(len(sep_changes)):\n",
    "    cur_int = sep_changes[j][0]\n",
    "    for i in range(1, len(sep_changes[j])):\n",
    "        cur_int &= sep_changes[j][i]\n",
    "    intersections[j] = cur_int\n",
    "    \n",
    "for i in intersections:\n",
    "    print(i)\n"
   ]
  },
  {
   "cell_type": "code",
   "execution_count": 24,
   "metadata": {},
   "outputs": [
    {
     "name": "stdout",
     "output_type": "stream",
     "text": [
      "[1, 2]\n",
      "[2, 0]\n",
      "[0, 1]\n"
     ]
    }
   ],
   "source": [
    "rules = [ [] for i in range(len(corr_versions)) ]\n",
    "indices = [0,1,2]\n",
    "\n",
    "for i in range(len(intersections)):\n",
    "    cur_int = intersections[i]\n",
    "    indices.remove(i)\n",
    "    print(indices)\n",
    "    for change in cur_int:\n",
    "        if change not in intersections[indices[0]] and change not in intersections[indices[1]]:\n",
    "            rules[i].append(change)\n",
    "    indices.append(i)\n"
   ]
  },
  {
   "cell_type": "code",
   "execution_count": 23,
   "metadata": {},
   "outputs": [
    {
     "name": "stdout",
     "output_type": "stream",
     "text": [
      "['/var/lib/dpkg/available', '/usr/share/doc/chrony.dpkg-new/faq.txt.gz', '/usr/share/man/man1/chrony.1.gz.dpkg-new', '/etc/chrony/chrony.conf.new', '/var/lib/dpkg/available-new', '/etc/cron.weekly/chrony.dpkg-new', '/usr/share/man/man1/chrony.1.gz', '/var/lib/dpkg/available-old', '/usr/share/doc/chrony/faq.txt.gz']\n",
      "['/etc/init.d/.depend.boot', '/etc/init.d/.depend.stop', '/var/log/chrony/tracking.log.1', '/var/log/chrony/statistics.log.1', '/var/log/chrony/statistics.log', '/var/log/chrony/measurements.log', '/var/log/chrony/measurements.log.1', '/var/lib/systemd/deb-systemd-helper-enabled/ureadahead.service.dsh-also', '/etc/init.d/.depend.start']\n",
      "['/lib/systemd/system/chrony-dnssrv@.service.dpkg-new', '/var/cache/man/ko/CACHEDIR.TAG', '/var/lib/dpkg/updates/0013', '/var/cache/man/uk/CACHEDIR.TAG', '/var/cache/man/zh_CN/CACHEDIR.TAG', '/var/cache/man/zh_TW/CACHEDIR.TAG', '/etc/network/if-up.d/chrony.dpkg-new', '/usr/lib/systemd/scripts/chronyd-starter.sh', '/etc/apparmor.d/cache/usr.sbin.chronyd', '/var/lib/dpkg/updates/0015', '/etc/systemd/system/chrony.service', '/var/lib/dpkg/updates/0016', '/lib/systemd/system/chrony-dnssrv@.timer.dpkg-new', '/var/cache/man/CACHEDIR.TAG', '/usr/lib/networkd-dispatcher/routable.d/chrony', '/etc/NetworkManager/dispatcher.d/20-chrony.dpkg-new', '/var/lib/systemd/deb-systemd-helper-enabled/chrony.service.dsh-also', '/var/log/journal/90c213c3662a46589e220665c75c823f/system.journal', '/usr/share/doc/chrony.dpkg-new/README.container', '/usr/lib/chrony/chrony-helper', '/usr/share/doc/chrony/README.container', '/var/cache/man/sr/CACHEDIR.TAG', '/var/lib/dpkg/updates/0014', '/var/cache/man/nl/CACHEDIR.TAG', '/usr/lib/networkd-dispatcher/off.d/chrony.dpkg-new', '/var/cache/man/hu/CACHEDIR.TAG', '/usr/lib/networkd-dispatcher/routable.d/chrony.dpkg-new', '/var/cache/man/tr/CACHEDIR.TAG', '/lib/systemd/system/chrony.service', '/var/lib/systemd/deb-systemd-helper-masked/chrony.service', '/lib/systemd/system/chrony-dnssrv@.timer', '/etc/default/chrony.dpkg-new', '/var/cache/man/ru/CACHEDIR.TAG', '/var/log/kern.log', '/var/cache/man/cs/CACHEDIR.TAG', '/var/cache/man/pt_BR/CACHEDIR.TAG', '/var/cache/man/sv/CACHEDIR.TAG', '/var/cache/man/pt/CACHEDIR.TAG', '/lib/systemd/system/chrony.service.dpkg-new', '/usr/share/lintian/overrides/chrony', '/var/cache/man/it/CACHEDIR.TAG', '/usr/lib/systemd/scripts.dpkg-new/chronyd-starter.sh', '/var/cache/man/fr/CACHEDIR.TAG', '/var/lib/dpkg/info/chrony.preinst', '/usr/share/chrony.dpkg-new/chrony.keys', '/usr/share/chrony/chrony.keys', '/usr/lib/networkd-dispatcher/off.d/chrony', '/var/cache/man/sl/CACHEDIR.TAG', '/usr/share/lintian/overrides/chrony.dpkg-new', '/lib/systemd/system/chrony-dnssrv@.service', '/var/cache/man/fi/CACHEDIR.TAG', '/var/lib/dpkg/updates/0012', '/var/lib/dpkg/updates/0018', '/etc/dhcp/dhclient-exit-hooks.d/chrony.dpkg-new', '/usr/lib/chrony.dpkg-new/chrony-helper', '/var/cache/man/de/CACHEDIR.TAG', '/var/cache/man/id/CACHEDIR.TAG', '/var/cache/man/es/CACHEDIR.TAG', '/etc/network/if-post-down.d/chrony.dpkg-new', '/var/cache/man/ja/CACHEDIR.TAG', '/etc/apparmor.d/usr.sbin.chronyd.dpkg-new', '/var/cache/man/pl/CACHEDIR.TAG', '/var/lib/dpkg/updates/0017', '/var/cache/man/da/CACHEDIR.TAG', '/var/log/apt/eipp.log.xz', '/var/lib/dpkg/tmp.ci/preinst']\n"
     ]
    }
   ],
   "source": [
    "print(rules[0])\n",
    "print(rules[1])\n",
    "print(rules[2])"
   ]
  },
  {
   "cell_type": "code",
   "execution_count": 26,
   "metadata": {},
   "outputs": [
    {
     "name": "stdout",
     "output_type": "stream",
     "text": [
      "1.29-1ubuntu0.1\n",
      "1.29-1ubuntu0.1 Match!!!\n",
      "2.1.1-1ubuntu0.1\n",
      "3.2-4ubuntu4.2\n",
      "3.2-4ubuntu4.2\n",
      "1.29-1ubuntu0.1\n",
      "1.29-1ubuntu0.1 Match!!!\n",
      "2.1.1-1ubuntu0.1\n",
      "1.29-1ubuntu0.1\n",
      "1.29-1ubuntu0.1 Match!!!\n",
      "1.29-1ubuntu0.1\n",
      "1.29-1ubuntu0.1 Match!!!\n",
      "2.1.1-1ubuntu0.1\n",
      "1.29-1ubuntu0.1\n",
      "1.29-1ubuntu0.1 Match!!!\n",
      "1.29-1ubuntu0.1\n",
      "1.29-1ubuntu0.1 Match!!!\n",
      "1.29-1ubuntu0.1\n",
      "1.29-1ubuntu0.1 Match!!!\n",
      "3.2-4ubuntu4.2\n",
      "2.1.1-1ubuntu0.1\n",
      "1.29-1ubuntu0.1\n",
      "1.29-1ubuntu0.1 Match!!!\n",
      "1.29-1ubuntu0.1\n",
      "1.29-1ubuntu0.1 Match!!!\n",
      "3.2-4ubuntu4.2\n",
      "2.1.1-1ubuntu0.1\n",
      "2.1.1-1ubuntu0.1\n",
      "3.2-4ubuntu4.2\n",
      "3.2-4ubuntu4.2\n",
      "2.1.1-1ubuntu0.1\n",
      "3.2-4ubuntu4.2\n",
      "2.1.1-1ubuntu0.1\n",
      "2.1.1-1ubuntu0.1\n",
      "1.29-1ubuntu0.1\n",
      "1.29-1ubuntu0.1 Match!!!\n",
      "3.2-4ubuntu4.2\n",
      "3.2-4ubuntu4.2\n",
      "2.1.1-1ubuntu0.1\n",
      "3.2-4ubuntu4.2\n"
     ]
    }
   ],
   "source": [
    "# test rules\n",
    "# if(all(x in test_list for x in sub_list)): \n",
    "\n",
    "for dic in hyb_dics:\n",
    "    print(dic['version'])\n",
    "    if(all(x in dic['changes'] for x in rules[0])): # rules[0] in dic['changes']:\n",
    "        print(corr_versions[0], \"Match!!!\")"
   ]
  },
  {
   "cell_type": "code",
   "execution_count": 32,
   "metadata": {},
   "outputs": [],
   "source": [
    "def fit(X,y):\n",
    "    # find intersection of ALL changes\n",
    "    #s.intersection_update(t)\n",
    "    intersection = X[0]\n",
    "    for idx in range(1, len(X)):\n",
    "        #intersection.insersection_update(all_changes[idx])\n",
    "        intersection &= X[idx]\n",
    "\n",
    "    # remove intersection from all sets\n",
    "    for l in X:\n",
    "        l -= intersection\n",
    "\n",
    "    # now separate by label\n",
    "    # find number of unique labels\n",
    "    y_set = set(y) \n",
    "    # convert the set to the list \n",
    "    unique_y = (list(y_set)) \n",
    "    \n",
    "    num_versions = len(unique_y)\n",
    "    \n",
    "    # create a dictionary that will have the versions as the keys, rules as values\n",
    "    changes_dic = {}\n",
    "    rule_dic = {}\n",
    "    for lab in unique_y:\n",
    "        changes_dic[lab] = []\n",
    "        rule_dic[lab] = []\n",
    "    \n",
    "    # separate changes by label\n",
    "    for label, changes in zip(y, X):\n",
    "        #print(label)\n",
    "        changes_dic[label].append(changes)\n",
    "\n",
    "    #find intersections within list\n",
    "    intersections = {}\n",
    "\n",
    "    for lab in unique_y:\n",
    "        cur_int = changes_dic[lab][0]\n",
    "        for i in range(1, len(changes_dic[lab])):\n",
    "            cur_int &= sep_changes[j][i]\n",
    "        intersections[lab] = cur_int\n",
    "\n",
    "    # create rules! :) \n",
    "    # THIS PART HAS NOT BEEN GENERALIZED FROM 3 VERSIONS\n",
    "    # Next step: evaluate proportion of versions have unique rules using this method\n",
    "\n",
    "    for lab in unique_y:\n",
    "        cur_int = intersections[lab]\n",
    "        cur_other_lab = unique_y \n",
    "        cur_other_lab.remove(lab)\n",
    "        #print(indices)\n",
    "        for change in cur_int:\n",
    "            unique_rule = True\n",
    "            for y in cur_other_lab:\n",
    "                if change in intersections[y]:\n",
    "                    unique_rule = False\n",
    "                    break\n",
    "            if unique_rule:\n",
    "                rules[lab].append(change)\n",
    "    return rules\n"
   ]
  },
  {
   "cell_type": "code",
   "execution_count": 6,
   "metadata": {},
   "outputs": [
    {
     "name": "stdout",
     "output_type": "stream",
     "text": [
      "rrdtool.1.5.5-4-6.hyb\n",
      "rrdtool\n"
     ]
    }
   ],
   "source": [
    "from os import listdir\n",
    "from os.path import isfile, join\n",
    "import yaml\n",
    "from tqdm import tqdm\n",
    "\n",
    "# Next step: determine # of \n",
    "hyb_dir = \"/home/ubuntu/praxi/fall2019/data/version_hybsets\"\n",
    "hybset_fnames = [f for f in listdir(hyb_dir) if isfile(join(hyb_dir, f))]\n",
    "print(hybset_fnames[0])\n",
    "\n",
    "# get app separations\n",
    "just_prefs = []\n",
    "for i in hybset_fnames:\n",
    "    just_prefs.append(i.split('.')[0])\n",
    "    \n",
    "print(just_prefs[0])\n",
    "\n",
    "#unique_apps = unique(set(just_prefs))"
   ]
  },
  {
   "cell_type": "code",
   "execution_count": 8,
   "metadata": {},
   "outputs": [
    {
     "name": "stdout",
     "output_type": "stream",
     "text": [
      "['subversion', 'sane', 'mariadb-server', 'paps', 'nasm', 'mstflint', 'chrony', 'dwz', 'logwatch', 'supermin', 'unbound', 'marisa', 'mrtg', 'transfig', 'lm-sensors', 'memcached', 'mailman', 'telnetd', 'bacula-client', 'smartmontools', 'bind9', 'pax', 'units', 'gpm', 'quagga', 'mc', 'dovecot-core', 'ipvsadm', 'tftpd', 'powertop', 'mksh', 'iptraf-ng', 'cups', 'sysstat', 'rrdtool', 'samba', 'ksh', 'tshark', 'lynx', 'crash', 'mgetty-voice', 'lftp', 'amanda-server', 'dstat', 'virt-top']\n"
     ]
    }
   ],
   "source": [
    "unique_apps = list(set(just_prefs))\n",
    "print(unique_apps)"
   ]
  },
  {
   "cell_type": "code",
   "execution_count": 10,
   "metadata": {},
   "outputs": [
    {
     "name": "stdout",
     "output_type": "stream",
     "text": [
      "[[], [], [], [], [], [], [], [], [], [], [], [], [], [], [], [], [], [], [], [], [], [], [], [], [], [], [], [], [], [], [], [], [], [], [], [], [], [], [], [], [], [], [], [], []]\n"
     ]
    }
   ],
   "source": [
    "names = [[] for i in range(len(unique_apps))]\n",
    "print(names)"
   ]
  },
  {
   "cell_type": "code",
   "execution_count": 11,
   "metadata": {},
   "outputs": [
    {
     "name": "stdout",
     "output_type": "stream",
     "text": [
      "['paps.0.6.8-7.1-0.hyb', 'paps.0.6.8-7ubuntu1-0.hyb', 'paps.0.6.8-7ubuntu1-8.hyb', 'paps.0.6.8-7ubuntu1-4.hyb', 'paps.0.6.8-7.1-2.hyb', 'paps.0.6.8-7.1-9.hyb', 'paps.0.6.8-7ubuntu1-2.hyb', 'paps.0.6.8-7ubuntu1-1.hyb', 'paps.0.6.8-7ubuntu1-7.hyb', 'paps.0.6.8-7-6.hyb', 'paps.0.6.8-7-3.hyb', 'paps.0.6.8-7-1.hyb', 'paps.0.6.8-7.1-6.hyb', 'paps.0.6.8-7-7.hyb', 'paps.0.6.8-7-9.hyb', 'paps.0.6.8-7.1-8.hyb', 'paps.0.6.8-7ubuntu1-9.hyb', 'paps.0.6.8-7.1-3.hyb', 'paps.0.6.8-7ubuntu1-3.hyb', 'paps.0.6.8-7-8.hyb', 'paps.0.6.8-7-2.hyb', 'paps.0.6.8-7.1-5.hyb', 'paps.0.6.8-7-5.hyb', 'paps.0.6.8-7.1-4.hyb', 'paps.0.6.8-7ubuntu1-6.hyb', 'paps.0.6.8-7-4.hyb', 'paps.0.6.8-7.1-1.hyb', 'paps.0.6.8-7.1-7.hyb', 'paps.0.6.8-7-0.hyb', 'paps.0.6.8-7ubuntu1-5.hyb']\n"
     ]
    }
   ],
   "source": [
    "for name in hybset_fnames:\n",
    "    app = name.split('.')[0]\n",
    "    i = unique_apps.index(app)\n",
    "    names[i].append(name)\n",
    "    \n",
    "print(names[3])"
   ]
  },
  {
   "cell_type": "code",
   "execution_count": 34,
   "metadata": {},
   "outputs": [
    {
     "name": "stdout",
     "output_type": "stream",
     "text": [
      "3\n",
      "3\n",
      "2\n",
      "3\n",
      "3\n",
      "3\n",
      "3\n",
      "3\n",
      "3\n",
      "3\n",
      "3\n",
      "3\n",
      "3\n",
      "3\n",
      "3\n",
      "3\n",
      "3\n",
      "3\n",
      "3\n",
      "3\n",
      "3\n",
      "3\n"
     ]
    },
    {
     "ename": "IndexError",
     "evalue": "list index out of range",
     "output_type": "error",
     "traceback": [
      "\u001b[0;31m---------------------------------------------------------------------------\u001b[0m",
      "\u001b[0;31mIndexError\u001b[0m                                Traceback (most recent call last)",
      "\u001b[0;32m<ipython-input-34-3362d9b7fd9f>\u001b[0m in \u001b[0;36m<module>\u001b[0;34m\u001b[0m\n\u001b[1;32m      2\u001b[0m \u001b[0;32mfor\u001b[0m \u001b[0mapp\u001b[0m \u001b[0;32min\u001b[0m \u001b[0mnames\u001b[0m\u001b[0;34m:\u001b[0m\u001b[0;34m\u001b[0m\u001b[0;34m\u001b[0m\u001b[0m\n\u001b[1;32m      3\u001b[0m     \u001b[0;32mif\u001b[0m\u001b[0;34m(\u001b[0m\u001b[0mapp\u001b[0m\u001b[0;34m[\u001b[0m\u001b[0;36m0\u001b[0m\u001b[0;34m]\u001b[0m\u001b[0;34m!=\u001b[0m\u001b[0;34m\"mailman.1:2.1.20-1ubuntu0.3-1.hyb\"\u001b[0m\u001b[0;34m)\u001b[0m\u001b[0;34m:\u001b[0m\u001b[0;34m\u001b[0m\u001b[0;34m\u001b[0m\u001b[0m\n\u001b[0;32m----> 4\u001b[0;31m         \u001b[0mcur_rules\u001b[0m \u001b[0;34m=\u001b[0m \u001b[0mget_rules\u001b[0m\u001b[0;34m(\u001b[0m\u001b[0mapp\u001b[0m\u001b[0;34m)\u001b[0m\u001b[0;34m\u001b[0m\u001b[0;34m\u001b[0m\u001b[0m\n\u001b[0m\u001b[1;32m      5\u001b[0m         \u001b[0mprint\u001b[0m\u001b[0;34m(\u001b[0m\u001b[0mlen\u001b[0m\u001b[0;34m(\u001b[0m\u001b[0mcur_rules\u001b[0m\u001b[0;34m)\u001b[0m\u001b[0;34m)\u001b[0m\u001b[0;34m\u001b[0m\u001b[0;34m\u001b[0m\u001b[0m\n\u001b[1;32m      6\u001b[0m         \u001b[0mrules\u001b[0m\u001b[0;34m.\u001b[0m\u001b[0mappend\u001b[0m\u001b[0;34m(\u001b[0m\u001b[0mcur_rules\u001b[0m\u001b[0;34m)\u001b[0m\u001b[0;34m\u001b[0m\u001b[0;34m\u001b[0m\u001b[0m\n",
      "\u001b[0;32m<ipython-input-32-0a2510218e51>\u001b[0m in \u001b[0;36mget_rules\u001b[0;34m(hybset_fnames)\u001b[0m\n\u001b[1;32m     59\u001b[0m         \u001b[0;31m#print(indices)\u001b[0m\u001b[0;34m\u001b[0m\u001b[0;34m\u001b[0m\u001b[0;34m\u001b[0m\u001b[0m\n\u001b[1;32m     60\u001b[0m         \u001b[0;32mfor\u001b[0m \u001b[0mchange\u001b[0m \u001b[0;32min\u001b[0m \u001b[0mcur_int\u001b[0m\u001b[0;34m:\u001b[0m\u001b[0;34m\u001b[0m\u001b[0;34m\u001b[0m\u001b[0m\n\u001b[0;32m---> 61\u001b[0;31m             \u001b[0;32mif\u001b[0m \u001b[0mchange\u001b[0m \u001b[0;32mnot\u001b[0m \u001b[0;32min\u001b[0m \u001b[0mintersections\u001b[0m\u001b[0;34m[\u001b[0m\u001b[0mindices\u001b[0m\u001b[0;34m[\u001b[0m\u001b[0;36m0\u001b[0m\u001b[0;34m]\u001b[0m\u001b[0;34m]\u001b[0m \u001b[0;32mand\u001b[0m \u001b[0mchange\u001b[0m \u001b[0;32mnot\u001b[0m \u001b[0;32min\u001b[0m \u001b[0mintersections\u001b[0m\u001b[0;34m[\u001b[0m\u001b[0mindices\u001b[0m\u001b[0;34m[\u001b[0m\u001b[0;36m1\u001b[0m\u001b[0;34m]\u001b[0m\u001b[0;34m]\u001b[0m\u001b[0;34m:\u001b[0m\u001b[0;34m\u001b[0m\u001b[0;34m\u001b[0m\u001b[0m\n\u001b[0m\u001b[1;32m     62\u001b[0m                 \u001b[0mrules\u001b[0m\u001b[0;34m[\u001b[0m\u001b[0mi\u001b[0m\u001b[0;34m]\u001b[0m\u001b[0;34m.\u001b[0m\u001b[0mappend\u001b[0m\u001b[0;34m(\u001b[0m\u001b[0mchange\u001b[0m\u001b[0;34m)\u001b[0m\u001b[0;34m\u001b[0m\u001b[0;34m\u001b[0m\u001b[0m\n\u001b[1;32m     63\u001b[0m         \u001b[0mindices\u001b[0m\u001b[0;34m.\u001b[0m\u001b[0mappend\u001b[0m\u001b[0;34m(\u001b[0m\u001b[0mi\u001b[0m\u001b[0;34m)\u001b[0m\u001b[0;34m\u001b[0m\u001b[0;34m\u001b[0m\u001b[0m\n",
      "\u001b[0;31mIndexError\u001b[0m: list index out of range"
     ]
    }
   ],
   "source": [
    "rules = []\n",
    "for app in names:\n",
    "    if(app[0]!=\"mailman.1:2.1.20-1ubuntu0.3-1.hyb\"):\n",
    "        cur_rules = get_rules(app)\n",
    "        print(len(cur_rules))\n",
    "        rules.append(cur_rules)"
   ]
  },
  {
   "cell_type": "code",
   "execution_count": 22,
   "metadata": {},
   "outputs": [
    {
     "name": "stdout",
     "output_type": "stream",
     "text": [
      "77\n",
      "15\n",
      "0\n",
      "27\n",
      "2\n",
      "0\n",
      "0\n",
      "0\n",
      "8\n",
      "0\n",
      "0\n",
      "386\n",
      "26\n",
      "0\n",
      "74\n",
      "0\n",
      "13\n",
      "19\n",
      "66\n",
      "0\n",
      "1\n",
      "0\n",
      "26\n",
      "0\n",
      "0\n",
      "48\n",
      "0\n",
      "28\n",
      "7\n",
      "4\n",
      "73\n",
      "0\n",
      "11\n",
      "0\n",
      "0\n",
      "4\n",
      "3\n",
      "0\n",
      "0\n",
      "0\n",
      "194\n",
      "60\n",
      "6\n",
      "0\n",
      "32\n",
      "0\n",
      "0\n"
     ]
    }
   ],
   "source": [
    "for r in rules:\n",
    "    for lr in r:\n",
    "        print(len(lr))"
   ]
  },
  {
   "cell_type": "code",
   "execution_count": 23,
   "metadata": {},
   "outputs": [
    {
     "data": {
      "text/plain": [
       "(array([39.,  6.,  0.,  0.,  0.,  1.,  0.,  0.,  0.,  1.]),\n",
       " array([  0. ,  38.6,  77.2, 115.8, 154.4, 193. , 231.6, 270.2, 308.8,\n",
       "        347.4, 386. ]),\n",
       " <a list of 10 Patch objects>)"
      ]
     },
     "execution_count": 23,
     "metadata": {},
     "output_type": "execute_result"
    }
   ],
   "source": [
    "import matplotlib.pyplot as plt\n",
    "l = [77,15,0,27,2,0,0,0,8,0,0,386,26,0,74,0,13,19,66,0,1,0,26,0,0,48,0,28,7,4,73,0,11,0,0,4,3,0,0,0,194,60,6,0,32,0,0]\n",
    "plt.hist(l)"
   ]
  },
  {
   "cell_type": "code",
   "execution_count": 31,
   "metadata": {},
   "outputs": [
    {
     "name": "stdout",
     "output_type": "stream",
     "text": [
      "16\n"
     ]
    }
   ],
   "source": [
    "print(len(rules))"
   ]
  },
  {
   "cell_type": "code",
   "execution_count": 29,
   "metadata": {},
   "outputs": [
    {
     "name": "stdout",
     "output_type": "stream",
     "text": [
      "45\n"
     ]
    }
   ],
   "source": [
    "print(len(names))"
   ]
  },
  {
   "cell_type": "code",
   "execution_count": null,
   "metadata": {},
   "outputs": [],
   "source": []
  }
 ],
 "metadata": {
  "kernelspec": {
   "display_name": "Python 3",
   "language": "python",
   "name": "python3"
  },
  "language_info": {
   "codemirror_mode": {
    "name": "ipython",
    "version": 3
   },
   "file_extension": ".py",
   "mimetype": "text/x-python",
   "name": "python",
   "nbconvert_exporter": "python",
   "pygments_lexer": "ipython3",
   "version": "3.6.8"
  }
 },
 "nbformat": 4,
 "nbformat_minor": 2
}
