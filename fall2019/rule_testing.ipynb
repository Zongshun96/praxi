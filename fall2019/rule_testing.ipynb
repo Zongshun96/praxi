{
 "cells": [
  {
   "cell_type": "code",
   "execution_count": 4,
   "metadata": {},
   "outputs": [
    {
     "name": "stderr",
     "output_type": "stream",
     "text": [
      "100%|██████████| 1300/1300 [01:36<00:00, 20.13it/s]"
     ]
    },
    {
     "name": "stdout",
     "output_type": "stream",
     "text": [
      "{'changes': ['/usr/share/man/man1/rrdtool.1.gz', '/usr/share/man/man3/librrd.3.gz', '/usr/share/doc/rrdtool/html/rrdgraph_libdbi.html', '/usr/share/doc/rrdtool/examples/perftest.pl.gz', '/usr/share/man/man1/cdeftutorial.1.gz', '/usr/share/doc/rrdtool/html/rrdthreads.html', '/var/cache/man/de/31234', '/usr/share/doc/rrdtool/html/rrdlastupdate.html', '/usr/share/doc/rrdtool/html/rpntutorial.html', '/usr/share/man/man1/rrdcreate.1.gz', '/usr/share/man/man1/rrdgraph_examples.1.gz', '/usr/share/man/man1/rrdcgi.1.gz', '/var/cache/man/sv/31234', '/usr/bin/rrdtool', '/usr/share/doc/rrdtool.dpkg-new/html/rrdfetch.html', '/usr/share/man/man1/rrdflushcached.1.gz', '/var/cache/man/pl/31234', '/usr/share/doc/rrdtool/copyright', '/usr/bin/rrdinfo.dpkg-new', '/usr/share/doc/rrdtool.dpkg-new/html/rrdgraph_examples.html', '/usr/share/doc/rrdtool.dpkg-new/copyright', '/usr/share/doc/rrdtool.dpkg-new/html/rrdinfo.html', '/usr/share/man/man1/rrdfetch.1.gz', '/var/lib/dpkg/tmp.ci/control', '/usr/share/man/man1/rrdtool.1.gz.dpkg-new', '/var/lib/dpkg/updates/0005', '/usr/share/doc/rrdtool/html/RRDp.html', '/var/lib/dpkg/updates/tmp.i', '/usr/share/doc/rrdtool.dpkg-new/html/rrdgraph_rpn.html', '/usr/share/man/man1/rrdfirst.1.gz.dpkg-new', '/usr/share/doc/rrdtool.dpkg-new/html/RRDs.html', '/usr/share/doc/rrdtool/html/rrdlast.html', '/usr/share/doc/rrdtool.dpkg-new/html/rrddump.html', '/var/lib/dpkg/status-new', '/usr/bin/rrdcreate', '/usr/share/doc/rrdtool/examples/ifOctets.tcl', '/usr/share/doc/rrdtool.dpkg-new/NEWS.gz', '/usr/share/doc/rrdtool/html/rrdinfo.html', '/usr/share/doc/rrdtool.dpkg-new/examples/piped-demo.pl.gz', '/usr/share/doc/rrdtool.dpkg-new/examples/bigtops.pl', '/var/cache/man/ja/31234', '/var/cache/man/pt/31234', '/usr/share/doc/rrdtool/html/bin_dec_hex.html', '/usr/share/doc/rrdtool/CONTRIBUTORS.gz', '/usr/share/doc/rrdtool.dpkg-new/html/rrdtool.html', '/usr/share/doc-base/rrdtool.dpkg-new', '/usr/share/man/man1/rrdgraph_libdbi.1.gz', '/var/cache/man/es/31234', '/usr/share/doc/rrdtool/html/rrdupdate.html', '/usr/share/doc/rrdtool/html/rrdbuild.html', '/var/cache/man/fr/31234', '/usr/share/doc/rrdtool/html/rrdrestore.html', '/usr/share/doc/rrdtool.dpkg-new/html/rrdupdate.html', '/usr/share/man/man3/librrd.3.gz.dpkg-new', '/usr/share/man/man1/bin_dec_hex.1.gz.dpkg-new', '/usr/share/doc/rrdtool/examples/4charts.pl', '/usr/share/doc/rrdtool/html/rrdgraph_graph.html', '/usr/share/doc/rrdtool/html/index.html', '/var/log/auth.log', '/usr/share/man/man1/rrddump.1.gz', '/usr/share/doc/rrdtool.dpkg-new/NEWS.Debian.gz', '/usr/share/doc/rrdtool.dpkg-new/html/rrd-beginners.html', '/usr/share/doc/rrdtool.dpkg-new/html/rrdtune.html', '/usr/share/man/man1/rpntutorial.1.gz', '/usr/share/doc/rrdtool/html/rrdcached.html', '/usr/share/doc/rrdtool/examples/cgi-demo.cgi', '/usr/bin/rrdinfo', '/usr/share/doc/rrdtool.dpkg-new/examples/test.rb', '/usr/share/doc/rrdtool/README.Debian', '/usr/share/doc/rrdtool/examples/test.rb', '/usr/share/doc/rrdtool/html/rrdgraph_data.html', '/usr/share/doc/rrdtool.dpkg-new/html/rrdxport.html', '/usr/share/man/man1/rrdbuild.1.gz.dpkg-new', '/usr/share/man/man1/rrdupdate.1.gz', '/var/lib/dpkg/tmp.ci/md5sums', '/usr/share/man/man1/rrdthreads.1.gz.dpkg-new', '/usr/share/doc/rrdtool/html/rrdfirst.html', '/usr/share/man/man1/rrdinfo.1.gz', '/usr/share/man/man1/rrdgraph_data.1.gz.dpkg-new', '/usr/share/man/man1/bin_dec_hex.1.gz', '/usr/share/man/man1/rrd-beginners.1.gz.dpkg-new', '/var/lib/dpkg/lock', '/usr/share/man/man1/rrdcreate.1.gz.dpkg-new', '/usr/share/doc/rrdtool/html/rrdcreate.html', '/usr/share/doc/rrdtool.dpkg-new/CONTRIBUTORS.gz', '/usr/share/doc/rrdtool.dpkg-new/examples/stripes.pl', '/var/lib/dpkg/status-old', '/usr/share/man/man1/rrdlast.1.gz.dpkg-new', '/usr/bin/rrdupdate.dpkg-new', '/usr/share/doc/rrdtool.dpkg-new/html/rrdbuild.html', '/usr/share/man/man1/rrdlastupdate.1.gz', '/var/lib/update-notifier/dpkg-run-stamp', '/usr/share/doc/rrdtool.dpkg-new/examples/perftest.pl.gz', '/usr/share/doc/rrdtool.dpkg-new/html/rrdgraph_libdbi.html', '/usr/share/doc/rrdtool.dpkg-new/examples/minmax.pl', '/var/lib/dpkg/updates/0004', '/var/lib/dpkg/info/rrdtool.md5sums', '/var/lib/dpkg/status', '/usr/share/doc/rrdtool/html/RRDs.html', '/usr/share/doc/rrdtool.dpkg-new/html/rrdlast.html', '/usr/share/doc/rrdtool.dpkg-new/html/cdeftutorial.html', '/var/cache/man/hu/31234', '/usr/share/doc/rrdtool/examples/bigtops.pl', '/usr/share/doc/rrdtool/examples/piped-demo.pl.gz', '/usr/share/doc/rrdtool/html/rrdtool.html', '/usr/share/doc/rrdtool.dpkg-new/html/librrd.html', '/usr/share/man/man1/cdeftutorial.1.gz.dpkg-new', '/usr/share/man/man1/rrdrestore.1.gz.dpkg-new', '/usr/share/doc/rrdtool/html/cdeftutorial.html', '/usr/share/doc/rrdtool/html/rrdgraph.html', '/usr/share/doc/rrdtool.dpkg-new/html/rrdrestore.html', '/var/cache/man/ru/31234', '/usr/share/doc/rrdtool/examples/stripes.pl', '/usr/share/doc/rrdtool.dpkg-new/README.Debian', '/usr/share/doc/rrdtool.dpkg-new/html/rrdflushcached.html', '/var/cache/man/pt_BR/31234', '/usr/share/doc/rrdtool/NEWS.gz', '/var/lib/update-notifier/tmp.scyIJ2cHHz', '/var/cache/man/ko/31234', '/usr/share/man/man1/rrdinfo.1.gz.dpkg-new', '/usr/share/doc/rrdtool/html/rrd-beginners.html', '/usr/share/doc/rrdtool.dpkg-new/html/rrdthreads.html', '/usr/share/doc/rrdtool/html/rrdgraph_rpn.html', '/var/cache/apt/pkgcache.bin.Dhkmh3', '/usr/share/doc/rrdtool.dpkg-new/html/rrdtutorial.html', '/usr/share/man/man1/rrdgraph_libdbi.1.gz.dpkg-new', '/usr/share/man/man1/rrdflushcached.1.gz.dpkg-new', '/usr/share/man/man1/rrdthreads.1.gz', '/usr/share/man/man1/rrdgraph.1.gz.dpkg-new', '/usr/share/doc/rrdtool/html/rrdxport.html', '/usr/share/man/man1/rrdtutorial.1.gz.dpkg-new', '/var/log/dpkg.log', '/usr/share/doc/rrdtool.dpkg-new/html/rrdgraph_graph.html', '/usr/share/doc/rrdtool/examples/minmax.pl', '/usr/bin/rrdcreate.dpkg-new', '/var/cache/man/zh_TW/31234', '/var/lib/dpkg/triggers/Lock', '/usr/share/man/man1/rrdgraph_rpn.1.gz', '/usr/share/doc/rrdtool/html/rrdflushcached.html', '/usr/share/doc/rrdtool/html/rrdgraph_examples.html', '/usr/share/doc-base/rrdtool', '/var/cache/man/sr/31234', '/usr/share/man/man1/rrdgraph_graph.1.gz.dpkg-new', '/var/cache/man/fi/31234', '/usr/share/doc/rrdtool.dpkg-new/html/rpntutorial.html', '/usr/share/doc/rrdtool.dpkg-new/html/rrdfirst.html', '/usr/share/doc/rrdtool/html/rrdtune.html', '/usr/share/man/man1/rrdxport.1.gz.dpkg-new', '/var/log/apt/term.log', '/usr/share/man/man1/rrdgraph.1.gz', '/var/cache/man/index.db', '/usr/share/doc/rrdtool/html/rrddump.html', '/usr/share/man/man1/rrdgraph_rpn.1.gz.dpkg-new', '/var/lib/apt/extended_states', '/usr/share/doc/rrdtool/html/librrd.html', '/usr/share/man/man1/rrdxport.1.gz', '/usr/share/doc/rrdtool.dpkg-new/examples/4charts.pl', '/usr/bin/rrdupdate', '/usr/share/doc/rrdtool/examples/shared-demo.pl.gz', '/usr/share/doc/rrdtool/html/rrdcgi.html', '/var/lib/dpkg/updates/0002', '/usr/share/doc/rrdtool.dpkg-new/examples/cgi-demo.cgi', '/var/cache/man/tr/31234', '/usr/share/doc/rrdtool.dpkg-new/html/rrdlastupdate.html', '/usr/share/doc/rrdtool.dpkg-new/html/rrdresize.html', '/usr/share/doc/rrdtool.dpkg-new/examples/shared-demo.pl.gz', '/usr/share/doc/rrdtool.dpkg-new/html/rrdcreate.html', '/var/cache/man/sl/31234', '/usr/share/doc/rrdtool/html/rrdresize.html', '/usr/share/man/man1/rrdlastupdate.1.gz.dpkg-new', '/usr/share/man/man1/rrddump.1.gz.dpkg-new', '/usr/share/man/man1/rrdgraph_data.1.gz', '/usr/bin/rrdcgi', '/var/cache/man/cs/31234', '/usr/share/doc/rrdtool.dpkg-new/html/rrdcgi.html', '/usr/share/man/man1/rrdtune.1.gz.dpkg-new', '/usr/share/man/man1/rrdtune.1.gz', '/var/log/apt/history.log', '/usr/share/doc/rrdtool.dpkg-new/html/rrdgraph.html', '/var/cache/man/it/31234', '/usr/share/doc/rrdtool.dpkg-new/html/index.html', '/var/lib/apt/extended_states.kCIE3X', '/usr/share/man/man1/rrdcgi.1.gz.dpkg-new', '/usr/share/man/man1/rrdfetch.1.gz.dpkg-new', '/usr/share/man/man1/rrdgraph_graph.1.gz', '/var/cache/apt/pkgcache.bin', '/var/cache/man/zh_CN/31234', '/usr/share/man/man1/rrdresize.1.gz', '/usr/share/man/man1/rrdgraph_examples.1.gz.dpkg-new', '/usr/share/doc/rrdtool/html/rrdfetch.html', '/var/lib/dpkg/updates/0001', '/var/lib/dpkg/updates/0003', '/usr/share/man/man1/rrdupdate.1.gz.dpkg-new', '/usr/bin/rrdtool.dpkg-new', '/var/lib/dpkg/updates/0000', '/usr/share/doc/rrdtool.dpkg-new/html/rrdcached.html', '/usr/share/man/man1/rrdbuild.1.gz', '/var/cache/man/id/31234', '/usr/share/doc/rrdtool/changelog.Debian.gz', '/usr/share/doc/rrdtool.dpkg-new/examples/ifOctets.tcl', '/usr/share/man/man1/rrdresize.1.gz.dpkg-new', '/usr/share/doc/rrdtool/NEWS.Debian.gz', '/usr/bin/rrdcgi.dpkg-new', '/usr/share/man/man1/rrd-beginners.1.gz', '/usr/share/doc/rrdtool/html/rrdtutorial.html', '/usr/share/man/man1/rrdrestore.1.gz', '/var/cache/man/nl/31234', '/usr/share/man/man1/rrdfirst.1.gz', '/var/cache/man/da/31234', '/usr/share/man/man1/rrdlast.1.gz', '/var/lib/dpkg/info/rrdtool.list', '/usr/share/doc/rrdtool.dpkg-new/changelog.Debian.gz', '/usr/share/doc/rrdtool.dpkg-new/html/bin_dec_hex.html', '/usr/share/man/man1/rrdtutorial.1.gz', '/usr/share/doc/rrdtool.dpkg-new/html/RRDp.html', '/var/cache/man/31234', '/usr/share/doc/rrdtool.dpkg-new/html/rrdgraph_data.html', '/usr/share/man/man1/rpntutorial.1.gz.dpkg-new', '/var/lib/dpkg/info/rrdtool.list-new'], 'label': 'rrdtool', 'tags': ['man:140', 'rrdtool.:58', 'rrdt:121', 'rrd:215', 'librrd.:4', 'rrdgraph_libdbi.:4', 'rrdgraph_:20', 'rrdgraph:24', 'cdeftutorial.:4', 'rrdthreads.:4', 'rrdlastupdate.:4', 'rrdlast:8', 'rpntutorial.:4', 'rrdcreate.:5', 'rrdc:14', 'rrdgraph_examples.:4', 'rrdcgi.:5', 'rrdfetch.:4', 'rrdf:12', 'rrdflushcached.:4', 'rrdinfo.:5', 'dpkg:19', 'tmp.:4', 'update:9', '000:6', 'RRD:4', 'rrdgraph_rpn.:4', 'rrdfirst.:4', 'rrdlast.:4', 'rrddump.:4', 'status-:2', 'bin_dec_hex.:4', 'rrdupdate.:5', 'rrdbuild.:4', 'rrdrestore.:4', 'rrdres:8', 'rrdgraph_graph.:4', 'index.:3', 'rrd-beginners.:4', 'rrdtune.:4', 'rrdtu:8', 'rrdgraph_data.:4', 'rrdxport.:4', 'rrdgraph.:4', 'rrdtutorial.:4', 'zh_:2', 'rrdresize.:4'], 'version': '1.5.5-4'}\n"
     ]
    },
    {
     "name": "stderr",
     "output_type": "stream",
     "text": [
      "\n"
     ]
    }
   ],
   "source": [
    "# figure out why no preds are being made\n",
    "# Load dictionaries\n",
    "from os import listdir\n",
    "from os.path import isfile, join\n",
    "import yaml\n",
    "from tqdm import tqdm\n",
    "\n",
    "# load rule dic \n",
    "rule_name = \"/home/ubuntu/praxi/fall2019/hyb_rules.yaml\"\n",
    "with open(rule_name, 'r') as stream:\n",
    "    rule_dic = yaml.safe_load(stream)\n",
    "\n",
    "# load data (examples of chrony)\n",
    "hyb_dir = \"/home/ubuntu/praxi/fall2019/data/version_hybsets\"\n",
    "hybset_fnames = [f for f in listdir(hyb_dir) if isfile(join(hyb_dir, f))]\n",
    "\n",
    "hyb_dics = [] \n",
    "for hyb_name in tqdm(hybset_fnames):\n",
    "        full_hyb_name = hyb_dir + '/' + hyb_name\n",
    "        with open(full_hyb_name, 'r') as stream:\n",
    "            hyb_dic = yaml.safe_load(stream)\n",
    "        hyb_dics.append(hyb_dic)\n",
    "        \n",
    "print(hyb_dics[0])"
   ]
  },
  {
   "cell_type": "code",
   "execution_count": 6,
   "metadata": {},
   "outputs": [
    {
     "name": "stdout",
     "output_type": "stream",
     "text": [
      "{'1.4.7-2ubuntu5': ['/usr/share/doc/rrdtool/html/rrdlua.html', '/usr/share/man/man1/rrdlua.1.gz.dpkg-new', '/usr/share/doc/rrdtool.dpkg-new/html/rrdlua.html', '/usr/share/man/man1/rrdlua.1.gz'], '1.5.5-4': ['/var/lib/dpkg/updates/0005'], '1.7.0-1build1': []}\n",
      "{'1.0.7-1': [], '1.0.7-1.1': [], '1.0.8-1': ['/var/cache/man/tr/CACHEDIR.TAG', '/var/cache/man/ja/CACHEDIR.TAG', '/var/cache/man/pt_BR/CACHEDIR.TAG', '/var/cache/man/it/CACHEDIR.TAG', '/var/cache/man/sl/CACHEDIR.TAG', '/var/cache/man/nl/CACHEDIR.TAG', '/var/cache/man/de/CACHEDIR.TAG', '/var/cache/man/pt/CACHEDIR.TAG', '/var/cache/man/sv/CACHEDIR.TAG', '/var/log/apt/eipp.log.xz', '/var/cache/man/pl/CACHEDIR.TAG', '/var/cache/man/zh_TW/CACHEDIR.TAG', '/var/cache/man/zh_CN/CACHEDIR.TAG', '/usr/share/lintian/overrides/virt-top', '/var/cache/man/hu/CACHEDIR.TAG', '/var/cache/man/CACHEDIR.TAG', '/var/cache/man/ru/CACHEDIR.TAG', '/usr/share/lintian/overrides/virt-top.dpkg-new', '/var/cache/man/id/CACHEDIR.TAG', '/var/cache/man/da/CACHEDIR.TAG', '/var/cache/man/sr/CACHEDIR.TAG', '/var/cache/man/fr/CACHEDIR.TAG', '/var/cache/man/fi/CACHEDIR.TAG', '/var/cache/man/es/CACHEDIR.TAG', '/var/cache/man/uk/CACHEDIR.TAG', '/var/cache/man/cs/CACHEDIR.TAG', '/var/log/journal/90c213c3662a46589e220665c75c823f/system.journal', '/var/cache/man/ko/CACHEDIR.TAG']}\n"
     ]
    }
   ],
   "source": [
    "print(rule_dic['rrdtool']['1.4.7-2ubuntu5'])\n",
    "print(rule_dic['virt-top'])"
   ]
  },
  {
   "cell_type": "code",
   "execution_count": 7,
   "metadata": {},
   "outputs": [
    {
     "name": "stdout",
     "output_type": "stream",
     "text": [
      "['/usr/share/doc/rrdtool/html/rrdlua.html', '/usr/share/man/man1/rrdlua.1.gz.dpkg-new', '/usr/share/doc/rrdtool.dpkg-new/html/rrdlua.html', '/usr/share/man/man1/rrdlua.1.gz']\n"
     ]
    }
   ],
   "source": [
    "print(rule_dic['rrdtool']['1.4.7-2ubuntu5'])"
   ]
  },
  {
   "cell_type": "code",
   "execution_count": 8,
   "metadata": {},
   "outputs": [
    {
     "name": "stdout",
     "output_type": "stream",
     "text": [
      "Found\n"
     ]
    }
   ],
   "source": [
    "#rrd14_ex = \n",
    "for dic in hyb_dics:\n",
    "    if dic['label'] == 'rrdtool' and dic['version'] == '1.4.7-2ubuntu5':\n",
    "        rrd14_ex = dic['changes']\n",
    "        print(\"Found\")\n",
    "        break"
   ]
  },
  {
   "cell_type": "code",
   "execution_count": 11,
   "metadata": {},
   "outputs": [
    {
     "name": "stdout",
     "output_type": "stream",
     "text": [
      "Yay 2!\n"
     ]
    }
   ],
   "source": [
    "if rule_dic['rrdtool']['1.4.7-2ubuntu5'] in rrd14_ex:\n",
    "    print(\"Yay!\")\n",
    "    \n",
    "if set(rule_dic['rrdtool']['1.4.7-2ubuntu5']) <= set(rrd14_ex):\n",
    "    print(\"Yay 2!\")"
   ]
  },
  {
   "cell_type": "code",
   "execution_count": null,
   "metadata": {},
   "outputs": [],
   "source": []
  }
 ],
 "metadata": {
  "kernelspec": {
   "display_name": "Python 3",
   "language": "python",
   "name": "python3"
  },
  "language_info": {
   "codemirror_mode": {
    "name": "ipython",
    "version": 3
   },
   "file_extension": ".py",
   "mimetype": "text/x-python",
   "name": "python",
   "nbconvert_exporter": "python",
   "pygments_lexer": "ipython3",
   "version": "3.6.8"
  }
 },
 "nbformat": 4,
 "nbformat_minor": 2
}
