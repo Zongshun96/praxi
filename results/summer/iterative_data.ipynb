{
 "cells": [
  {
   "cell_type": "code",
   "execution_count": 3,
   "metadata": {},
   "outputs": [],
   "source": [
    "import sys\n",
    "sys.path.insert(0, '/home/ubuntu/praxi')\n",
    "\n",
    "from multiprocessing import Lock\n",
    "\n",
    "import logging\n",
    "import logging.config\n",
    "\n",
    "import os\n",
    "from os import listdir\n",
    "from os.path import isfile, join\n",
    "\n",
    "from pathlib import Path\n",
    "import random\n",
    "import time\n",
    "import yaml\n",
    "import pickle\n",
    "import copy\n",
    "import argparse\n",
    "\n",
    "from sklearn.base import BaseEstimator\n",
    "from tqdm import tqdm\n",
    "\n",
    "import numpy as np\n",
    "from numpy import savetxt\n",
    "from sklearn import metrics\n",
    "from sklearn.multiclass import OneVsRestClassifier\n",
    "from sklearn.preprocessing import MultiLabelBinarizer\n",
    "\n",
    "from hybrid import Hybrid\n",
    "\n",
    "CHANGESET_ROOT = Path('~/praxi/caches/changesets/').expanduser()"
   ]
  },
  {
   "cell_type": "code",
   "execution_count": 4,
   "metadata": {},
   "outputs": [],
   "source": [
    "def get_free_filename(stub, directory, suffix=''):\n",
    "    counter = 0\n",
    "    while True:\n",
    "        file_candidate = '{}/{}-{}{}'.format(\n",
    "            str(directory), stub, counter, suffix)\n",
    "        if Path(file_candidate).exists():\n",
    "            print(\"file exists\")\n",
    "            counter += 1\n",
    "        else:  # No match found\n",
    "            print(\"no file\")\n",
    "            if suffix=='.p':\n",
    "                print(\"will create pickle file\")\n",
    "            elif suffix:\n",
    "                Path(file_candidate).touch()\n",
    "            else:\n",
    "                Path(file_candidate).mkdir()\n",
    "            return file_candidate\n",
    "\n",
    "def parse_csids(csids, multilabel=False, iterative=False):\n",
    "    \"\"\" Returns labels and features from csids, features are file sets\n",
    "    file sets: list of string of format '644 /usr/.../file' \"\"\"\n",
    "    features = []\n",
    "    labels = []\n",
    "    for csid in tqdm(csids):\n",
    "        changeset = get_changeset(csid, iterative=iterative)\n",
    "        if multilabel:\n",
    "            if 'labels' in changeset:\n",
    "                labels.append(changeset['labels'])\n",
    "            else:\n",
    "                labels.append([changeset['label']])\n",
    "        else:\n",
    "            labels.append(changeset['label'])\n",
    "        features.append(changeset['changes'])\n",
    "    return features, labels\n",
    "\n",
    "def get_changeset(csid, iterative=False):\n",
    "    changeset = None\n",
    "    if str(csid) in {'5', '6', '7'}:\n",
    "        # Dirty fix for finger, autotrace\n",
    "        globstr = '*[!16].5'\n",
    "    else:\n",
    "        globstr = '*.{}'.format(csid)\n",
    "    if iterative:\n",
    "        globstr += '.yaml'\n",
    "    else:\n",
    "        globstr += '.[!y]*'\n",
    "    for csfile in CHANGESET_ROOT.glob(globstr):\n",
    "        if changeset is not None:\n",
    "            raise IOError(\n",
    "                \"Too many changesets match the csid {}, globstr {}\".format(\n",
    "                    csid, globstr))\n",
    "        with csfile.open('r') as f:\n",
    "            changeset = yaml.load(f)\n",
    "    if changeset is None:\n",
    "        raise IOError(\"No changesets match the csid {}\".format(csid))\n",
    "    if 'changes' not in changeset or (\n",
    "            'label' not in changeset and 'labels' not in changeset):\n",
    "        logging.error(\"Malformed changeset, id: %d, changeset: %s\",\n",
    "                      csid, csfile)\n",
    "        raise IOError(\"Couldn't read changeset\")\n",
    "    return changeset\n",
    "\n"
   ]
  },
  {
   "cell_type": "code",
   "execution_count": 9,
   "metadata": {},
   "outputs": [
    {
     "name": "stdout",
     "output_type": "stream",
     "text": [
      "4\n",
      "<class 'list'>\n",
      "3\n",
      "<class 'list'>\n",
      "[[20006, 30922, 23869, 20095, 28710, 37927, 21525, 18464, 18274, 33860, 28580, 36011, 37491, 40988, 27809, 35662, 41007, 33390, 20548, 26362, 34346, 19923, 41851, 28098, 29673, 29236, 19635, 19358, 35675, 41618, 24317, 36559, 33557, 29704, 31830, 35476, 32828, 22543, 33389, 38928, 27538, 29805, 35811, 29607, 31108, 26101, 38581, 41341, 22290, 38214, 35094, 19666, 35513, 22492, 41758, 27635, 28785, 40088, 30843, 25298, 38500, 30602, 21724, 27103, 107206, 19385, 32760, 26674, 28165, 35816, 31852, 37459, 35524, 22166, 19433, 22967, 22478, 32823, 39022, 40788, 21059, 40250, 27638, 25277, 33280, 27155, 37592, 107046, 22279, 18020, 38463, 24577, 23434, 19314, 21667, 40280, 25437, 27323, 30246, 18111, 24555, 30739, 18886, 107140, 24739, 19519, 35422, 30063, 34526, 20804, 37635, 20998, 38290, 19624, 29826, 39216, 107360, 107364, 27893, 39686, 106901, 33946, 29632, 31770, 18617, 24402, 26655, 38032, 17958, 31781, 27151, 106994, 23136, 23132, 39397, 39018, 21212, 35707, 21973, 21075, 101289, 101295, 100278, 100651, 107043, 101264, 98692, 107101, 107333, 100643, 19420, 40391, 21830, 20921, 32396, 29317, 19057, 23236, 32351, 36671, 22513, 33387, 19349, 20873, 33375, 24117, 25374, 27928, 32727, 107027, 23205, 34470, 37280, 28287, 30592, 24344, 33689, 28460, 28769, 22820, 17978, 36377, 22940, 33422, 32634, 41818, 22710, 19353, 33220, 38979, 36057, 23186, 30366, 39241, 24119, 20265, 26419, 19365, 24301, 21107], [29693, 33947, 41482, 24927, 18937, 25319, 39360, 30794, 21023, 33026, 30287, 35461, 41637, 30782, 24698, 31223, 107159, 28608, 29309, 39347, 26985, 30281, 27318, 41427, 34228, 40515, 18448, 18966, 38875, 21371, 25143, 31385, 27861, 29410, 25011, 32622, 35847, 32974, 41528, 24126, 37115, 23006, 29960, 40152, 32372, 31740, 18296, 33828, 25622, 21546, 26651, 34159, 29656, 33079, 22059, 38731, 25651, 37376, 41133, 21748, 29860, 34337, 29443, 41402, 24393, 35023, 34422, 39088, 24564, 18070, 33965, 34918, 21898, 34042, 29736, 20931, 31064, 39297, 28335, 32960, 33283, 20418, 30926, 36615, 41860, 39764, 21278, 29957, 18716, 26671, 37122, 33262, 32446, 31320, 32459, 27493, 22576, 38474, 21427, 38026, 25024, 37039, 20201, 35975, 27240, 30200, 39690, 33409, 26172, 20531, 36689, 27095, 33343, 23311, 35593, 33937, 24778, 24400, 31191, 25572, 21100, 23669, 32249, 26317, 19532, 27848, 30615, 37161, 41293, 20904, 28728, 28153, 26068, 30047, 24512, 19017, 18117, 24732, 25543, 19741, 99941, 100418, 101283, 100989, 101266, 100035, 107218, 100007, 9107360, 100658, 30327, 39503, 25947, 21142, 30877, 22158, 25362, 33904, 107289, 31054, 38705, 27341, 24354, 35444, 18713, 21786, 39152, 26583, 33558, 30166, 24178, 27590, 33346, 23964, 35614, 38294, 26619, 30314, 41004, 25958, 41177, 32332, 39608, 20598, 30132, 22514, 18922, 23389, 35133, 21945, 35512, 33058, 22977, 40194, 37087, 20324, 40418, 39957, 30764, 20165], [39215, 19705, 36556, 18978, 37129, 28353, 18939, 26574, 28810, 40405, 31091, 37334, 25628, 18619, 28820, 40636, 30207, 27354, 25498, 34484, 41139, 38268, 33714, 32779, 21837, 27466, 28115, 20397, 33464, 31389, 22913, 21984, 39141, 24053, 24118, 29956, 40978, 34085, 34216, 36199, 21413, 27836, 27211, 40145, 18032, 23716, 37332, 30372, 24997, 27357, 29373, 31526, 37251, 34443, 34834, 26177, 26833, 32186, 32418, 32406, 31539, 27822, 35242, 28922, 31912, 31926, 37829, 34695, 19081, 36784, 34602, 30821, 18720, 27208, 23735, 23880, 17946, 21506, 39882, 25355, 37060, 32492, 41359, 18600, 32520, 20232, 22734, 41164, 32569, 30346, 34097, 23577, 20068, 18398, 28078, 41827, 24885, 9107140, 29767, 20831, 20216, 36261, 40887, 26644, 30542, 107305, 37003, 26589, 28972, 32223, 28590, 25371, 19341, 27607, 33868, 37235, 23565, 25694, 40308, 20368, 31254, 38307, 20890, 31602, 22782, 29533, 37847, 18073, 28924, 19967, 30614, 25706, 36138, 31590, 31884, 28664, 107133, 38049, 35082, 21971, 100369, 100385, 108023, 107256, 101249, 99722, 107355, 101297, 107201, 100869, 41207, 40700, 30124, 36410, 22713, 34721, 29571, 22315, 18427, 38743, 39142, 31252, 30695, 35295, 36049, 32266, 19334, 35378, 29537, 20946, 23637, 34702, 18260, 23464, 25369, 33377, 26567, 40300, 28065, 41650, 25868, 33629, 34219, 22468, 36782, 28442, 34743, 34704, 37355, 18436, 30792, 36287, 38967, 22964, 34331, 37419, 41299, 39974, 27991, 25838]]\n"
     ]
    }
   ],
   "source": [
    "# GET ITERATIVE CHUNKS\n",
    "with (Path('/home/ubuntu/praxi/changeset_sets/').expanduser() / 'iterative_chunks.p').open('rb') as f:\n",
    "    it_chunks = pickle.load(f)\n",
    "\n",
    "print(len(it_chunks))\n",
    "print(type(it_chunks))\n",
    "\n",
    "print(len(it_chunks[0]))\n",
    "print(type(it_chunks[0]))\n",
    "print(it_chunks[0])"
   ]
  },
  {
   "cell_type": "code",
   "execution_count": 8,
   "metadata": {},
   "outputs": [
    {
     "name": "stdout",
     "output_type": "stream",
     "text": [
      "<class 'list'>\n"
     ]
    }
   ],
   "source": [
    "print(type(it_chunks))"
   ]
  },
  {
   "cell_type": "code",
   "execution_count": null,
   "metadata": {},
   "outputs": [],
   "source": []
  },
  {
   "cell_type": "code",
   "execution_count": null,
   "metadata": {},
   "outputs": [],
   "source": []
  }
 ],
 "metadata": {
  "kernelspec": {
   "display_name": "Python 3",
   "language": "python",
   "name": "python3"
  },
  "language_info": {
   "codemirror_mode": {
    "name": "ipython",
    "version": 3
   },
   "file_extension": ".py",
   "mimetype": "text/x-python",
   "name": "python",
   "nbconvert_exporter": "python",
   "pygments_lexer": "ipython3",
   "version": "3.6.7"
  }
 },
 "nbformat": 4,
 "nbformat_minor": 2
}
