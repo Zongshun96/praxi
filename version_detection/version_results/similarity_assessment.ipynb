{
 "cells": [
  {
   "cell_type": "code",
   "execution_count": 2,
   "metadata": {},
   "outputs": [],
   "source": [
    "# compare dictionary similarity\n",
    "import yaml\n",
    "import os\n",
    "from os import listdir\n",
    "from os.path import isfile, join\n",
    "\n",
    "tagset_directory = '/home/ubuntu/praxi/version_detection/tagset_compare/all'\n",
    "\n",
    "tag_names = [f for f in listdir(tagset_directory) if (isfile(join(tagset_directory, f))and f[-3:]=='tag')]\n",
    "\n",
    "dic_list = [] \n",
    "\n",
    "for name in tag_names:\n",
    "    full_name = tagset_directory + '/' + name\n",
    "    with open(full_name, 'r') as stream:\n",
    "        data = yaml.safe_load(stream)\n",
    "    dic_list.append(data)\n"
   ]
  },
  {
   "cell_type": "code",
   "execution_count": 3,
   "metadata": {},
   "outputs": [
    {
     "name": "stdout",
     "output_type": "stream",
     "text": [
      "dict_values(['1a15-2-3', 'arpwatch2.1a15-2', ['dpkg:35', 'update:15', '000:10', 'sys:3', 'tmp.:9', '.depend.:3', 'status-:2', 'zh_:2', 'arp:19', '001:2', 'arpwatch.:11', 'pre:2', 'arpwatch.pre:2', 'arpwatch.p:4', 'con:2', 'arpwatch.conf:2', 'arpwatch.post:2', '.depend.st:2']])\n"
     ]
    }
   ],
   "source": [
    "print(dic_list[0].values())"
   ]
  },
  {
   "cell_type": "code",
   "execution_count": 4,
   "metadata": {},
   "outputs": [],
   "source": [
    "dcraw_tagsets = [] \n",
    "crda_tagsets = [] \n",
    "for dic in dic_list:\n",
    "    if dic['label'][0:3]=='dcr':\n",
    "        dcraw_tagsets.append(dic)\n",
    "    elif dic['label'][0:3]=='crd':\n",
    "        crda_tagsets.append(dic)\n"
   ]
  },
  {
   "cell_type": "code",
   "execution_count": 5,
   "metadata": {},
   "outputs": [
    {
     "name": "stdout",
     "output_type": "stream",
     "text": [
      "{'id': '27-1ubuntu1-1', 'label': 'dcraw9.27-1ubuntu1', 'tags': ['zh_:4', 'dpkg:18', 'update:8', '000:5', 'tmp.:4', 'status-:2', 'dcraw.:3']}\n"
     ]
    }
   ],
   "source": [
    "print(dcraw_tagsets[0])"
   ]
  },
  {
   "cell_type": "code",
   "execution_count": 10,
   "metadata": {
    "scrolled": true
   },
   "outputs": [
    {
     "name": "stdout",
     "output_type": "stream",
     "text": [
      "r\n"
     ]
    },
    {
     "ename": "TypeError",
     "evalue": "can't multiply sequence by non-int of type 'str'",
     "output_type": "error",
     "traceback": [
      "\u001b[0;31m---------------------------------------------------------------------------\u001b[0m",
      "\u001b[0;31mTypeError\u001b[0m                                 Traceback (most recent call last)",
      "\u001b[0;32m<ipython-input-10-2126f9c8baf0>\u001b[0m in \u001b[0;36m<module>\u001b[0;34m\u001b[0m\n\u001b[1;32m      5\u001b[0m \u001b[0mprint\u001b[0m\u001b[0;34m(\u001b[0m\u001b[0ml1\u001b[0m\u001b[0;34m[\u001b[0m\u001b[0;36m2\u001b[0m\u001b[0;34m]\u001b[0m\u001b[0;34m)\u001b[0m\u001b[0;34m\u001b[0m\u001b[0;34m\u001b[0m\u001b[0m\n\u001b[1;32m      6\u001b[0m \u001b[0;34m\u001b[0m\u001b[0m\n\u001b[0;32m----> 7\u001b[0;31m \u001b[0msim\u001b[0m \u001b[0;34m=\u001b[0m \u001b[0mcosine_similarity\u001b[0m\u001b[0;34m(\u001b[0m\u001b[0ml1\u001b[0m\u001b[0;34m,\u001b[0m\u001b[0ml2\u001b[0m\u001b[0;34m)\u001b[0m\u001b[0;34m\u001b[0m\u001b[0;34m\u001b[0m\u001b[0m\n\u001b[0m\u001b[1;32m      8\u001b[0m \u001b[0mprint\u001b[0m\u001b[0;34m(\u001b[0m\u001b[0msim\u001b[0m\u001b[0;34m)\u001b[0m\u001b[0;34m\u001b[0m\u001b[0;34m\u001b[0m\u001b[0m\n",
      "\u001b[0;32m<ipython-input-5-db5cc4a19a09>\u001b[0m in \u001b[0;36mcosine_similarity\u001b[0;34m(vec1, vec2)\u001b[0m\n\u001b[1;32m      3\u001b[0m         \u001b[0;32mfor\u001b[0m \u001b[0mi\u001b[0m \u001b[0;32min\u001b[0m \u001b[0mrange\u001b[0m\u001b[0;34m(\u001b[0m\u001b[0mlen\u001b[0m\u001b[0;34m(\u001b[0m\u001b[0mvec1\u001b[0m\u001b[0;34m)\u001b[0m\u001b[0;34m)\u001b[0m\u001b[0;34m:\u001b[0m\u001b[0;34m\u001b[0m\u001b[0;34m\u001b[0m\u001b[0m\n\u001b[1;32m      4\u001b[0m             \u001b[0mx\u001b[0m \u001b[0;34m=\u001b[0m \u001b[0mvec1\u001b[0m\u001b[0;34m[\u001b[0m\u001b[0mi\u001b[0m\u001b[0;34m]\u001b[0m\u001b[0;34m;\u001b[0m \u001b[0my\u001b[0m \u001b[0;34m=\u001b[0m \u001b[0mvec2\u001b[0m\u001b[0;34m[\u001b[0m\u001b[0mi\u001b[0m\u001b[0;34m]\u001b[0m\u001b[0;34m\u001b[0m\u001b[0;34m\u001b[0m\u001b[0m\n\u001b[0;32m----> 5\u001b[0;31m             \u001b[0msum11\u001b[0m \u001b[0;34m+=\u001b[0m \u001b[0mx\u001b[0m\u001b[0;34m*\u001b[0m\u001b[0mx\u001b[0m\u001b[0;34m\u001b[0m\u001b[0;34m\u001b[0m\u001b[0m\n\u001b[0m\u001b[1;32m      6\u001b[0m             \u001b[0msum22\u001b[0m \u001b[0;34m+=\u001b[0m \u001b[0my\u001b[0m\u001b[0;34m*\u001b[0m\u001b[0my\u001b[0m\u001b[0;34m\u001b[0m\u001b[0;34m\u001b[0m\u001b[0m\n\u001b[1;32m      7\u001b[0m             \u001b[0msum12\u001b[0m \u001b[0;34m+=\u001b[0m \u001b[0mx\u001b[0m\u001b[0;34m*\u001b[0m\u001b[0my\u001b[0m\u001b[0;34m\u001b[0m\u001b[0;34m\u001b[0m\u001b[0m\n",
      "\u001b[0;31mTypeError\u001b[0m: can't multiply sequence by non-int of type 'str'"
     ]
    }
   ],
   "source": []
  },
  {
   "cell_type": "code",
   "execution_count": 20,
   "metadata": {},
   "outputs": [],
   "source": []
  },
  {
   "cell_type": "code",
   "execution_count": 6,
   "metadata": {},
   "outputs": [
    {
     "name": "stdout",
     "output_type": "stream",
     "text": [
      "['zh_:4', 'dpkg:18', 'update:8', '000:5', 'tmp.:4', 'status-:2', 'dcraw.:3']\n",
      "['zh_', '4']\n",
      "['dpkg', '18']\n",
      "['update', '8']\n",
      "['000', '5']\n",
      "['tmp.', '4']\n",
      "['status-', '2']\n",
      "['dcraw.', '3']\n",
      "['dpkg', '25']\n",
      "['tmp.', '7']\n",
      "['con', '2']\n",
      "['zh_', '2']\n",
      "['update', '9']\n",
      "['000', '6']\n",
      "['status-', '2']\n",
      "['crda.', '7']\n",
      "['crda.p', '2']\n"
     ]
    }
   ],
   "source": [
    "# turn tags lists into dictionaries\n",
    "l1 = dcraw_tagsets[0]['tags']\n",
    "l2 = crda_tagsets[0]['tags']\n",
    "\n",
    "d1 = {}\n",
    "d2 = {}\n",
    "\n",
    "print(l1)\n",
    "\n",
    "for item in l1:\n",
    "    labfreq = item.split(':')\n",
    "    print(labfreq)\n",
    "    d1[labfreq[0]] = int(labfreq[1])\n",
    "    \n",
    "for item in l2:\n",
    "    labfreq = item.split(':')\n",
    "    print(labfreq)\n",
    "    d2[labfreq[0]] = int(labfreq[1])\n"
   ]
  },
  {
   "cell_type": "code",
   "execution_count": 22,
   "metadata": {},
   "outputs": [
    {
     "name": "stdout",
     "output_type": "stream",
     "text": [
      "0.966\n"
     ]
    }
   ],
   "source": [
    "sim = cosine_similarity(d1,d2)\n",
    "print(sim)"
   ]
  },
  {
   "cell_type": "code",
   "execution_count": 31,
   "metadata": {},
   "outputs": [],
   "source": [
    "from math import sqrt\n",
    "\n",
    "def square_rooted(x):\n",
    "    return round(sqrt(sum([a*a for a in x])),3)\n",
    "\n",
    "def cos_sim(x, y):\n",
    "    # takes two tagsets\n",
    "    l1 = x['tags']\n",
    "    l2 = y['tags']\n",
    "    \n",
    "    l1.sort()\n",
    "    l2.sort()\n",
    "    \n",
    "    d1 = {}\n",
    "    d2 = {}\n",
    "\n",
    "    for item in l1:\n",
    "        labfreq = item.split(':')\n",
    "        d1[labfreq[0]] = float(labfreq[1])\n",
    "    \n",
    "    for item in l2:\n",
    "        labfreq = item.split(':')\n",
    "        d2[labfreq[0]] = float(labfreq[1])\n",
    "        \n",
    "    print(\"d1: \", d1)\n",
    "    print(\"d2: \", d2)\n",
    "    \n",
    "    input1 = {}\n",
    "    input2 = {}\n",
    "    vector2 = []\n",
    "    vector1 =[]\n",
    "\n",
    "    if len(d1) > len(d2):\n",
    "        input1 = d1\n",
    "        input2 = d2\n",
    "    else:\n",
    "        input1 = d2\n",
    "        input2 = d1\n",
    "\n",
    "\n",
    "    vector1 = list(input1.values())\n",
    "\n",
    "    for k in input1.keys():    # Normalizing input vectors. \n",
    "        if k in input2:\n",
    "            vector2.append(float(input1[k]))\n",
    "        else :\n",
    "            vector2.append(float(0))\n",
    "            \n",
    "    print(vector1)\n",
    "    print(vector2)\n",
    "\n",
    "    numerator = sum(a*b for a,b in zip(vector2,vector1))\n",
    "    denominator = square_rooted(vector1)*square_rooted(vector2)\n",
    "    return numerator/float(denominator)"
   ]
  },
  {
   "cell_type": "code",
   "execution_count": 32,
   "metadata": {},
   "outputs": [
    {
     "name": "stdout",
     "output_type": "stream",
     "text": [
      "d1:  {'000': 5.0, 'dcraw.': 3.0, 'dpkg': 18.0, 'status-': 2.0, 'tmp.': 4.0, 'update': 8.0, 'zh_': 4.0}\n",
      "d2:  {'000': 6.0, 'dcraw.': 3.0, 'dpkg': 19.0, 'status-': 2.0, 'tmp.': 4.0, 'update': 9.0, 'zh_': 2.0}\n",
      "[6.0, 3.0, 19.0, 2.0, 4.0, 9.0, 2.0]\n",
      "[6.0, 3.0, 19.0, 2.0, 4.0, 9.0, 2.0]\n",
      "1.0000273490845468\n"
     ]
    }
   ],
   "source": [
    "print(cos_sim(dcraw_tagsets[0], dcraw_tagsets[1]))"
   ]
  },
  {
   "cell_type": "code",
   "execution_count": 7,
   "metadata": {},
   "outputs": [
    {
     "name": "stdout",
     "output_type": "stream",
     "text": [
      "dcraw9.27-1ubuntu1\n",
      "dcraw9.21-0.2\n",
      "dcraw9.27-1ubuntu1\n",
      "dcraw9.27-1ubuntu1\n",
      "dcraw9.21-0.2\n",
      "dcraw9.27-1ubuntu1\n",
      "dcraw9.19-1.1ubuntu1\n",
      "dcraw9.19-1.1ubuntu1\n",
      "dcraw9.21-0.2\n",
      "dcraw9.21-0.2\n",
      "dcraw9.19-1.1ubuntu1\n",
      "dcraw9.19-1.1ubuntu1\n",
      "dcraw9.27-1ubuntu1\n",
      "dcraw9.27-1ubuntu1\n",
      "dcraw9.21-0.2\n",
      "dcraw9.19-1.1ubuntu1\n",
      "dcraw9.19-1.1ubuntu1\n",
      "dcraw9.19-1.1ubuntu1\n",
      "dcraw9.19-1.1ubuntu1\n",
      "dcraw9.21-0.2\n",
      "dcraw9.21-0.2\n",
      "dcraw9.21-0.2\n",
      "dcraw9.21-0.2\n",
      "dcraw9.27-1ubuntu1\n",
      "dcraw9.27-1ubuntu1\n",
      "dcraw9.27-1ubuntu1\n",
      "dcraw9.19-1.1ubuntu1\n",
      "dcraw9.19-1.1ubuntu1\n",
      "dcraw9.27-1ubuntu1\n"
     ]
    }
   ],
   "source": [
    "for t in dcraw_tagsets:\n",
    "    print(t['label'])"
   ]
  },
  {
   "cell_type": "code",
   "execution_count": 36,
   "metadata": {},
   "outputs": [
    {
     "name": "stdout",
     "output_type": "stream",
     "text": [
      "['000:5', 'dcraw.:3', 'dpkg:18', 'status-:2', 'tmp.:4', 'update:8', 'zh_:4'] ['000:6', 'dcraw.:3', 'dpkg:19', 'status-:2', 'tmp.:4', 'update:9', 'zh_:2']\n",
      "d1:  {'000': 5.0, 'dcraw.': 3.0, 'dpkg': 18.0, 'status-': 2.0, 'tmp.': 4.0, 'update': 8.0, 'zh_': 4.0}\n",
      "d2:  {'000': 6.0, 'dcraw.': 3.0, 'dpkg': 19.0, 'status-': 2.0, 'tmp.': 4.0, 'update': 9.0, 'zh_': 2.0}\n",
      "[6.0, 3.0, 19.0, 2.0, 4.0, 9.0, 2.0]\n",
      "[6.0, 3.0, 19.0, 2.0, 4.0, 9.0, 2.0]\n",
      "1.0000273490845468\n",
      "d1:  {'000': 5.0, 'dcraw.': 3.0, 'dpkg': 18.0, 'status-': 2.0, 'tmp.': 4.0, 'update': 8.0, 'zh_': 4.0}\n",
      "d2:  {'000': 6.0, 'con': 2.0, 'crda.': 7.0, 'crda.p': 2.0, 'dpkg': 25.0, 'status-': 2.0, 'tmp.': 7.0, 'update': 9.0, 'zh_': 2.0}\n",
      "[6.0, 2.0, 7.0, 2.0, 25.0, 2.0, 7.0, 9.0, 2.0]\n",
      "[6.0, 0.0, 0.0, 0.0, 25.0, 2.0, 7.0, 9.0, 2.0]\n",
      "0.966133783587307\n"
     ]
    }
   ],
   "source": [
    "#dcraw9.27-1ubuntu1\n",
    "#dcraw9.21-0.2\n",
    "print(dcraw_tagsets[0]['tags'], dcraw_tagsets[1]['tags'])\n",
    "print(cos_sim(dcraw_tagsets[0], dcraw_tagsets[1]))\n",
    "print(cos_sim(dcraw_tagsets[0], crda_tagsets[1]))"
   ]
  },
  {
   "cell_type": "code",
   "execution_count": 35,
   "metadata": {},
   "outputs": [
    {
     "name": "stdout",
     "output_type": "stream",
     "text": [
      "[4.0, 5.0, 3.0]\n",
      "[4.0, 5.0, 3.0]\n",
      "1.0000191803678795\n"
     ]
    }
   ],
   "source": [
    "from math import*\n",
    "\n",
    "ratings={'Shane': {'127 Hours': 5.0, 'Avatar': 4.0, 'Nonstop': 5.0},\n",
    "         'Joe': {'127 Hours': 4.0,  'Avatar': 5.0, 'Nonstop': 3.0}, #'Taken 3': 4.0,\n",
    "         'Bob': {'Panic Room':5.0,'Nonstop':5.0}}\n",
    "\n",
    "def square_rooted(x):\n",
    "\n",
    "    return round(sqrt(sum([a*a for a in x])),3)\n",
    "\n",
    "def cosine_similarity(x,y):\n",
    "\n",
    "    input1 = {}\n",
    "    input2 = {}\n",
    "    vector2 = []\n",
    "    vector1 =[]\n",
    "\n",
    "    if len(x) > len(y):\n",
    "        input1 = x\n",
    "        input2 = y\n",
    "    else:\n",
    "        input1 = y\n",
    "        input2 = x\n",
    "\n",
    "\n",
    "    vector1 = list(input1.values())\n",
    "\n",
    "    for k in input1.keys():    # Normalizing input vectors. \n",
    "        if k in input2:\n",
    "            vector2.append(float(input1[k]))\n",
    "        else :\n",
    "            vector2.append(float(0))\n",
    "            \n",
    "    print(vector1)\n",
    "    print(vector2)\n",
    "\n",
    "    numerator = sum(a*b for a,b in zip(vector2,vector1))\n",
    "    denominator = square_rooted(vector1)*square_rooted(vector2)\n",
    "    return numerator/float(denominator)\n",
    "\n",
    "print(cosine_similarity(ratings['Shane'],ratings['Joe']))\n",
    "#print(cosine_similarity(dcraw_tagsets[0]['tags'], dcraw_tagsets[1]['tags'])) "
   ]
  },
  {
   "cell_type": "code",
   "execution_count": 3,
   "metadata": {},
   "outputs": [],
   "source": [
    "from itertools import combinations\n",
    "from statistics import mean\n",
    "\n",
    "# Jaccard Index\n",
    "def jac(s1,s2):\n",
    "    \"\"\"the jaccard index between 2 sets\"\"\"\n",
    "    s_union = s1.union(s2)\n",
    "    s_inter = s1.intersection(s2)\n",
    "\n",
    "    len_union = len(s_union)\n",
    "    if not len_union:\n",
    "        return 0\n",
    "\n",
    "    return len(s_inter)*1.0/len_union\n",
    "\n",
    "def jac_full(dict0, dict1):\n",
    "    \"\"\"Comparison taking into account keys and items\"\"\"\n",
    "    l0 = dict0['tags']\n",
    "    l1 = dict1['tags']\n",
    "    \n",
    "    d0 = {}\n",
    "    d1 = {}\n",
    "\n",
    "    for item in l0:\n",
    "        labfreq = item.split(':')\n",
    "        d0[labfreq[0]] = float(labfreq[1])\n",
    "    \n",
    "    for item in l1:\n",
    "        labfreq = item.split(':')\n",
    "        d1[labfreq[0]] = float(labfreq[1])\n",
    "        \n",
    "    set_keys0 = set(d0.keys())\n",
    "    set_keys1 = set(d1.keys())\n",
    "\n",
    "    key_commonality = jac(set_keys0, set_keys1)\n",
    "\n",
    "    set0 = set(d0.items())\n",
    "    set1 = set(d1.items())\n",
    "\n",
    "    item_commonality = jac(set0, set1)\n",
    "\n",
    "    #ok, so now we give a proximity on key match, even if key + data dont match\n",
    "    return key_commonality  #*.9 + 0.1 * item_commonality\n",
    "\n"
   ]
  },
  {
   "cell_type": "code",
   "execution_count": 76,
   "metadata": {},
   "outputs": [
    {
     "name": "stdout",
     "output_type": "stream",
     "text": [
      "1.0\n",
      "0.3333333333333333\n"
     ]
    }
   ],
   "source": [
    "print(jac_wrapper(dcraw_tagsets[0], dcraw_tagsets[3]))\n",
    "print(jac_wrapper(dcraw_tagsets[0], crda_tagsets[1]))\n",
    "\n",
    "dcraw_tagsets = [] \n",
    "crda_tagsets = [] \n",
    "git_tagsets = []\n",
    "dcraw_v1 = []\n",
    "dcraw_v2 = []\n",
    "crda_v1 = []\n",
    "\n",
    "for dic in dic_list:\n",
    "    if dic['label'][0:3]=='dcr':\n",
    "        dcraw_tagsets.append(dic)\n",
    "    elif dic['label'][0:3]=='crd':\n",
    "        crda_tagsets.append(dic)\n",
    "    elif dic['label'][0:3]=='git':\n",
    "        git_tagsets.append(dic)\n",
    "        \n",
    "    if dic['label'] == 'dcraw9.27-1ubuntu1':\n",
    "        dcraw_v1.append(dic)\n",
    "    if dic['label'] == 'dcraw9.19-1.1ubuntu1':\n",
    "        dcraw_v2.append(dic)\n",
    "    if dic['label'] == 'crda1.1.2-1ubuntu2':\n",
    "        crda_v1.append(dic)\n",
    "        \n",
    "        #dcraw9.19-1.1ubuntu1 for crda1.1.2-1ubuntu2"
   ]
  },
  {
   "cell_type": "code",
   "execution_count": 49,
   "metadata": {},
   "outputs": [
    {
     "name": "stdout",
     "output_type": "stream",
     "text": [
      "dcraw9.27-1ubuntu1\n",
      "dcraw9.21-0.2\n",
      "dcraw9.27-1ubuntu1\n",
      "dcraw9.27-1ubuntu1\n",
      "dcraw9.21-0.2\n",
      "dcraw9.27-1ubuntu1\n",
      "dcraw9.19-1.1ubuntu1\n",
      "dcraw9.19-1.1ubuntu1\n",
      "dcraw9.21-0.2\n",
      "dcraw9.21-0.2\n",
      "dcraw9.19-1.1ubuntu1\n",
      "dcraw9.19-1.1ubuntu1\n",
      "dcraw9.27-1ubuntu1\n",
      "dcraw9.27-1ubuntu1\n",
      "dcraw9.21-0.2\n",
      "dcraw9.19-1.1ubuntu1\n",
      "dcraw9.19-1.1ubuntu1\n",
      "dcraw9.19-1.1ubuntu1\n",
      "dcraw9.19-1.1ubuntu1\n",
      "dcraw9.21-0.2\n",
      "dcraw9.21-0.2\n",
      "dcraw9.21-0.2\n",
      "dcraw9.21-0.2\n",
      "dcraw9.27-1ubuntu1\n",
      "dcraw9.27-1ubuntu1\n",
      "dcraw9.27-1ubuntu1\n",
      "dcraw9.19-1.1ubuntu1\n",
      "dcraw9.19-1.1ubuntu1\n",
      "dcraw9.27-1ubuntu1\n"
     ]
    }
   ],
   "source": [
    "for i in dcraw_tagsets:\n",
    "    print(i['label'])"
   ]
  },
  {
   "cell_type": "code",
   "execution_count": 51,
   "metadata": {},
   "outputs": [
    {
     "name": "stdout",
     "output_type": "stream",
     "text": [
      "10\n"
     ]
    }
   ],
   "source": [
    "print(len(dcraw_v1))"
   ]
  },
  {
   "cell_type": "code",
   "execution_count": 4,
   "metadata": {},
   "outputs": [],
   "source": [
    "def assess_sim(dic_list):\n",
    "    # compare all dictionaries in the list to each other, return\n",
    "    # average jaccard index\n",
    "    combos = list(combinations(dic_list, 2))\n",
    "    jac_scores = [jac_full(i[0], i[1]) for i in combos]\n",
    "    #print(jac_scores)\n",
    "    return mean(jac_scores)\n",
    "\n",
    "def assess_sim_2(dl1, dl2):\n",
    "    # create list of all combinations of one element from list 1, one element from l2\n",
    "    pairs = [] #[] for i in range(len(dl1)*len(dl2))]\n",
    "    for el_out in dl1:\n",
    "        for el_in in dl2:\n",
    "            pair = [el_out, el_in]\n",
    "            pairs.append(pair)\n",
    "    #print(pairs[0])\n",
    "    #print(len(pairs))\n",
    "    jac_scores = [jac_full(i[0], i[1]) for i in pairs]\n",
    "    return mean(jac_scores)\n",
    "    \n",
    "                 \n",
    "#print(len(dcraw_v1), len(dcraw_v2))\n",
    "#print(assess_sim_2(dcraw_v1, dcraw_v2))\n",
    "#print(assess_sim_2(crda_v1, dcraw_v2))\n"
   ]
  },
  {
   "cell_type": "code",
   "execution_count": 5,
   "metadata": {},
   "outputs": [
    {
     "name": "stdout",
     "output_type": "stream",
     "text": [
      "10\n",
      "9\n",
      "10\n",
      "10\n",
      "9\n",
      "10\n",
      "10\n",
      "10\n",
      "9\n",
      "10\n",
      "10\n",
      "9\n",
      "9\n",
      "9\n",
      "10\n",
      "10\n",
      "9\n",
      "10\n"
     ]
    }
   ],
   "source": [
    "arpwatch_v1 = []\n",
    "arpwatch_v2 = []\n",
    "arpwatch_v3 = []\n",
    "dcraw_v1 = []\n",
    "dcraw_v2 = []\n",
    "dcraw_v3 = []\n",
    "crda_v1 = []\n",
    "crda_v2 = [] \n",
    "crda_v3 = [] \n",
    "gitweb_v1 = [] \n",
    "gitweb_v2 = []\n",
    "gitweb_v3 = []\n",
    "quota_v1 = []\n",
    "quota_v2 = []\n",
    "quota_v3 = []\n",
    "vsftpd_v1 = []\n",
    "vsftpd_v2 = []\n",
    "vsftpd_v3 = []\n",
    "\n",
    "for dic in dic_list:\n",
    "    if dic['label'] == 'dcraw9.27-1ubuntu1':\n",
    "        dcraw_v1.append(dic)\n",
    "    elif dic['label'] == 'dcraw9.19-1.1ubuntu1':\n",
    "        dcraw_v2.append(dic)\n",
    "    elif dic['label'] == 'dcraw9.21-0.2':\n",
    "        dcraw_v3.append(dic)   \n",
    "    elif dic['label'] == 'crda1.1.2-1ubuntu2':\n",
    "        crda_v1.append(dic)\n",
    "    elif dic['label'] == 'crda3.13-1':\n",
    "        crda_v2.append(dic)\n",
    "    elif dic['label'] == 'crda3.18-1build1':\n",
    "        crda_v3.append(dic)\n",
    "    elif dic['label'] == 'arpwatch2.1a15-1.2':\n",
    "        arpwatch_v1.append(dic)\n",
    "    elif dic['label'] == 'arpwatch2.1a15-2':\n",
    "        arpwatch_v2.append(dic)\n",
    "    elif dic['label'] == 'arpwatch2.1a15-6':\n",
    "        arpwatch_v3.append(dic)\n",
    "    elif dic['label'] == 'gitweb1:1.9.1-1ubuntu0.10':\n",
    "        gitweb_v1.append(dic)\n",
    "    elif dic['label'] == 'gitweb1:2.17.1-1ubuntu0.4':\n",
    "        gitweb_v2.append(dic)\n",
    "    elif dic['label'] == 'gitweb1:2.7.4-0ubuntu1.6':\n",
    "        gitweb_v3.append(dic)\n",
    "    elif dic['label'] == 'quota4.01-3':\n",
    "        quota_v1.append(dic)\n",
    "    elif dic['label'] == 'quota4.03-2':\n",
    "        quota_v2.append(dic)\n",
    "    elif dic['label'] == 'quota4.04-2ubuntu0.1':\n",
    "        quota_v3.append(dic)\n",
    "    elif dic['label'] == 'vsftpd3.0.2-1ubuntu2.14.04.1':\n",
    "        vsftpd_v1.append(dic)\n",
    "    elif dic['label'] == 'vsftpd3.0.3-3ubuntu2':\n",
    "        vsftpd_v2.append(dic)\n",
    "    elif dic['label'] == 'vsftpd3.0.3-9build1':\n",
    "        vsftpd_v3.append(dic)\n",
    "        \n",
    "print(len(arpwatch_v1))\n",
    "print(len(arpwatch_v2))\n",
    "print(len(arpwatch_v3))\n",
    "\n",
    "print(len(crda_v1))\n",
    "print(len(crda_v2))\n",
    "print(len(crda_v3))\n",
    "\n",
    "print(len(dcraw_v1))\n",
    "print(len(dcraw_v2))\n",
    "print(len(dcraw_v3))\n",
    "\n",
    "print(len(gitweb_v1))\n",
    "print(len(gitweb_v2))\n",
    "print(len(gitweb_v3))\n",
    "\n",
    "print(len(quota_v1))\n",
    "print(len(quota_v2))\n",
    "print(len(quota_v3))\n",
    "\n",
    "print(len(vsftpd_v1))\n",
    "print(len(vsftpd_v2))\n",
    "print(len(vsftpd_v3))"
   ]
  },
  {
   "cell_type": "code",
   "execution_count": 8,
   "metadata": {},
   "outputs": [
    {
     "name": "stdout",
     "output_type": "stream",
     "text": [
      "0.971\n",
      "0.9777777777777777\n",
      "0.9734074074074074\n",
      "0.6312794612794613\n",
      "1.0\n",
      "1.0\n",
      "0.975\n",
      "0.6861111111111111\n",
      "1.0\n",
      "1.0\n",
      "0.9762962962962963\n",
      "1.0\n",
      "0.9972222222222222\n",
      "0.9742713365539453\n",
      "1.0\n",
      "0.9555555555555556\n",
      "0.6600223705486864\n",
      "0.6355669955669956\n"
     ]
    }
   ],
   "source": [
    "# Compare all versions of all applications with themselves\n",
    "print(assess_sim(arpwatch_v1))\n",
    "print(assess_sim(arpwatch_v2))\n",
    "print(assess_sim(arpwatch_v3))\n",
    "\n",
    "print(assess_sim(crda_v1))\n",
    "print(assess_sim(crda_v2))\n",
    "print(assess_sim(crda_v3))\n",
    "\n",
    "print(assess_sim(dcraw_v1))\n",
    "print(assess_sim(dcraw_v2))\n",
    "print(assess_sim(dcraw_v3))\n",
    "\n",
    "print(assess_sim(gitweb_v1))\n",
    "print(assess_sim(gitweb_v2))\n",
    "print(assess_sim(gitweb_v3))\n",
    "\n",
    "print(assess_sim(quota_v1))\n",
    "print(assess_sim(quota_v2))\n",
    "print(assess_sim(quota_v3))\n",
    "\n",
    "print(assess_sim(vsftpd_v1))\n",
    "print(assess_sim(vsftpd_v2))\n",
    "print(assess_sim(vsftpd_v3))"
   ]
  },
  {
   "cell_type": "code",
   "execution_count": 5,
   "metadata": {},
   "outputs": [
    {
     "name": "stdout",
     "output_type": "stream",
     "text": [
      "0.6088780874745787\n",
      "0.5376851851851852\n",
      "0.4711309523809524\n",
      "0.579920634920635\n",
      "0.7167261221418354\n",
      "0.4148166225281808\n"
     ]
    }
   ],
   "source": [
    "print(mean([assess_sim_2(arpwatch_v1, arpwatch_v2), assess_sim_2(arpwatch_v1, arpwatch_v3), assess_sim_2(arpwatch_v2, arpwatch_v3)]))\n",
    "\n",
    "print(mean([assess_sim_2(crda_v1, crda_v2), assess_sim_2(crda_v1, crda_v3), assess_sim_2(crda_v2, crda_v3)]))\n",
    "\n",
    "print(mean([assess_sim_2(dcraw_v1, dcraw_v2), assess_sim_2(dcraw_v1, dcraw_v3), assess_sim_2(dcraw_v2, dcraw_v3)]))\n",
    "\n",
    "print(mean([assess_sim_2(gitweb_v1, gitweb_v2), assess_sim_2(gitweb_v1, gitweb_v3), assess_sim_2(gitweb_v2, gitweb_v3)]))\n",
    "\n",
    "print(mean([assess_sim_2(quota_v1, quota_v2), assess_sim_2(quota_v1, quota_v3), assess_sim_2(quota_v2, quota_v3)]))\n",
    "\n",
    "print(mean([assess_sim_2(vsftpd_v1, vsftpd_v2), assess_sim_2(vsftpd_v1, vsftpd_v3), assess_sim_2(vsftpd_v2, vsftpd_v3)]))"
   ]
  },
  {
   "cell_type": "code",
   "execution_count": 12,
   "metadata": {},
   "outputs": [
    {
     "name": "stdout",
     "output_type": "stream",
     "text": [
      "15.874074074074073\n",
      "6.833333333333333\n",
      "5.2\n",
      "11.4\n",
      "18.40740740740741\n",
      "15.874074074074073\n"
     ]
    }
   ],
   "source": [
    "# average changeset size:\n",
    "\n",
    "a1 = 0\n",
    "for i in arpwatch_v1:\n",
    "    a1+= len(i['tags'])\n",
    "a1 = a1*1.0/len(arpwatch_v1)   \n",
    "\n",
    "a2 = 0\n",
    "for i in arpwatch_v2:\n",
    "    a2+= len(i['tags'])\n",
    "a2 = a2*1.0/len(arpwatch_v2)\n",
    "\n",
    "a3 = 0\n",
    "for i in arpwatch_v3:\n",
    "    a3+= len(i['tags'])\n",
    "a3 = a3*1.0/len(arpwatch_v3)\n",
    "\n",
    "print(mean([a1, a2, a3]))\n",
    "\n",
    "\n",
    "\n",
    "c1 = 0\n",
    "for i in crda_v1:\n",
    "    c1+= len(i['tags'])\n",
    "c1 = c1*1.0/len(crda_v1)   \n",
    "\n",
    "c2 = 0\n",
    "for i in crda_v2:\n",
    "    c2+= len(i['tags'])\n",
    "c2 = c2*1.0/len(crda_v2)\n",
    "\n",
    "c3 = 0\n",
    "for i in crda_v3:\n",
    "    c3+= len(i['tags'])\n",
    "c3 = c3*1.0/len(crda_v3)\n",
    "\n",
    "print(mean([c1, c2, c3]))\n",
    "\n",
    "\n",
    "\n",
    "d1 = 0\n",
    "for i in dcraw_v1:\n",
    "    d1+= len(i['tags'])\n",
    "d1 = d1*1.0/len(dcraw_v1)   \n",
    "\n",
    "d2 = 0\n",
    "for i in dcraw_v2:\n",
    "    d2+= len(i['tags'])\n",
    "d2 = d2*1.0/len(dcraw_v2)\n",
    "\n",
    "d3 = 0\n",
    "for i in dcraw_v3:\n",
    "    d3+= len(i['tags'])\n",
    "d3 = d3*1.0/len(dcraw_v3)\n",
    "\n",
    "print(mean([d1, d2, d3]))\n",
    "\n",
    "\n",
    "\n",
    "g1 = 0\n",
    "for i in gitweb_v1:\n",
    "    g1+= len(i['tags'])\n",
    "g1 = g1*1.0/len(gitweb_v1)   \n",
    "\n",
    "g2 = 0\n",
    "for i in gitweb_v2:\n",
    "    g2+= len(i['tags'])\n",
    "g2 = g2*1.0/len(gitweb_v2)\n",
    "\n",
    "g3 = 0\n",
    "for i in gitweb_v3:\n",
    "    g3+= len(i['tags'])\n",
    "g3 = g3*1.0/len(gitweb_v3)\n",
    "\n",
    "print(mean([g1, g2, g3]))\n",
    "\n",
    "\n",
    "\n",
    "q1 = 0\n",
    "for i in quota_v1:\n",
    "    q1+= len(i['tags'])\n",
    "q1 = q1*1.0/len(quota_v1)   \n",
    "\n",
    "q2 = 0\n",
    "for i in quota_v2:\n",
    "    q2+= len(i['tags'])\n",
    "q2 = q2*1.0/len(quota_v2)\n",
    "\n",
    "q3 = 0\n",
    "for i in quota_v3:\n",
    "    q3+= len(i['tags'])\n",
    "q3 = q3*1.0/len(quota_v3)\n",
    "\n",
    "print(mean([q1, q2, q3]))\n",
    "\n",
    "\n",
    "v1 = 0\n",
    "for i in vsftpd_v1:\n",
    "    v1+= len(i['tags'])\n",
    "v1 = v1*1.0/len(vsftpd_v1)   \n",
    "\n",
    "v2 = 0\n",
    "for i in vsftpd_v2:\n",
    "    v2+= len(i['tags'])\n",
    "v2 = v2*1.0/len(vsftpd_v2)\n",
    "\n",
    "v3 = 0\n",
    "for i in vsftpd_v3:\n",
    "    v3+= len(i['tags'])\n",
    "v3 = v3*1.0/len(vsftpd_v3)\n",
    "\n",
    "print(mean([a1, a2, a3]))"
   ]
  },
  {
   "cell_type": "code",
   "execution_count": 13,
   "metadata": {},
   "outputs": [
    {
     "name": "stdout",
     "output_type": "stream",
     "text": [
      "3000\n",
      "3000\n"
     ]
    }
   ],
   "source": [
    "### compare dictionary similarity\n",
    "import yaml\n",
    "import os\n",
    "from os import listdir\n",
    "from os.path import isfile, join\n",
    "\n",
    "orig_tagset_directory = '/home/ubuntu/praxi/tag_improvements/orig_tags'\n",
    "\n",
    "orig_tag_names = [f for f in listdir(orig_tagset_directory) if (isfile(join(orig_tagset_directory, f))and f[-3:]=='tag')]\n",
    "\n",
    "orig_dic_list = [] \n",
    "\n",
    "for name in orig_tag_names:\n",
    "    full_name = orig_tagset_directory + '/' + name\n",
    "    with open(full_name, 'r') as stream:\n",
    "        data = yaml.safe_load(stream)\n",
    "    orig_dic_list.append(data)\n",
    "    \n",
    "print(len(orig_dic_list))\n",
    "    \n",
    "edited_tagset_directory = '/home/ubuntu/praxi/tag_improvements/edited_tags'\n",
    "\n",
    "edited_tag_names = [f for f in listdir(edited_tagset_directory) if (isfile(join(edited_tagset_directory, f))and f[-3:]=='tag')]\n",
    "\n",
    "edited_dic_list = [] \n",
    "\n",
    "for name in edited_tag_names:\n",
    "    full_name = edited_tagset_directory + '/' + name\n",
    "    with open(full_name, 'r') as stream:\n",
    "        data = yaml.safe_load(stream)\n",
    "    edited_dic_list.append(data)\n",
    "    \n",
    "print(len(edited_dic_list))\n",
    "    \n"
   ]
  },
  {
   "cell_type": "code",
   "execution_count": 14,
   "metadata": {},
   "outputs": [],
   "source": [
    "mariadb_server = [] \n",
    "logwatch = []\n",
    "cobertura = []\n",
    "sane = []\n",
    "qemu_kvm = []\n",
    "finger = []\n",
    "zsh = []\n",
    "wget = []\n",
    "supermin = []\n",
    "emacs_nox = []\n",
    "\n",
    "for dic in orig_dic_list:\n",
    "    if dic['label'] == 'mariadb-server':\n",
    "        mariadb_server.append(dic)\n",
    "    elif dic['label'] == 'logwatch':\n",
    "        logwatch.append(dic)\n",
    "    elif dic['label'] == 'cobertura':\n",
    "        cobertura.append(dic)   \n",
    "    elif dic['label'] == 'sane':\n",
    "        sane.append(dic)\n",
    "    elif dic['label'] == 'qemu-kvm':\n",
    "        qemu_kvm.append(dic)\n",
    "    elif dic['label'] == 'finger':\n",
    "        finger.append(dic)\n",
    "    elif dic['label'] == 'zsh':\n",
    "        zsh.append(dic)\n",
    "    elif dic['label'] == 'wget':\n",
    "        wget.append(dic)\n",
    "    elif dic['label'] == 'supermin':\n",
    "        supermin.append(dic)\n",
    "    elif dic['label'] == 'emacs-nox':\n",
    "        emacs_nox.append(dic)"
   ]
  },
  {
   "cell_type": "code",
   "execution_count": 16,
   "metadata": {},
   "outputs": [
    {
     "name": "stdout",
     "output_type": "stream",
     "text": [
      "33\n",
      "38\n",
      "32\n"
     ]
    }
   ],
   "source": [
    "print(len(mariadb_server))\n",
    "print(len(logwatch))\n",
    "print(len(cobertura))"
   ]
  },
  {
   "cell_type": "code",
   "execution_count": 15,
   "metadata": {},
   "outputs": [
    {
     "name": "stdout",
     "output_type": "stream",
     "text": [
      "0.4418807493320299\n",
      "0.7913535882950776\n"
     ]
    }
   ],
   "source": [
    "print(assess_sim(wget))\n",
    "print(assess_sim(supermin))"
   ]
  },
  {
   "cell_type": "code",
   "execution_count": 21,
   "metadata": {},
   "outputs": [
    {
     "name": "stdout",
     "output_type": "stream",
     "text": [
      "7\n"
     ]
    }
   ],
   "source": [
    "print(len(supermin[0]['tags']))"
   ]
  },
  {
   "cell_type": "code",
   "execution_count": 9,
   "metadata": {},
   "outputs": [
    {
     "name": "stdout",
     "output_type": "stream",
     "text": [
      "0.36848484848484847\n",
      "0.21160714285714285\n",
      "0.21428571428571427\n",
      "0.9875\n",
      "0.36777777777777776\n",
      "0.35638888888888887\n",
      "0.8888888888888888\n"
     ]
    }
   ],
   "source": [
    "print(assess_sim_2(dcraw_v2, crda_v1))\n",
    "print(assess_sim_2(dcraw_v2, dcraw_v1))\n",
    "print(assess_sim_2(dcraw_v2, dcraw_v3))\n",
    "print(assess_sim_2(dcraw_v1, dcraw_v3))\n",
    "print(assess_sim_2(crda_v2, crda_v1))\n",
    "print(assess_sim_2(crda_v3, crda_v1))\n",
    "print(assess_sim_2(crda_v3, crda_v2))\n",
    "\n"
   ]
  },
  {
   "cell_type": "code",
   "execution_count": null,
   "metadata": {},
   "outputs": [],
   "source": []
  }
 ],
 "metadata": {
  "kernelspec": {
   "display_name": "Python 3",
   "language": "python",
   "name": "python3"
  },
  "language_info": {
   "codemirror_mode": {
    "name": "ipython",
    "version": 3
   },
   "file_extension": ".py",
   "mimetype": "text/x-python",
   "name": "python",
   "nbconvert_exporter": "python",
   "pygments_lexer": "ipython3",
   "version": "3.6.8"
  }
 },
 "nbformat": 4,
 "nbformat_minor": 2
}
