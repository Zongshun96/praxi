{
 "cells": [
  {
   "cell_type": "code",
   "execution_count": 1,
   "metadata": {},
   "outputs": [],
   "source": [
    "result_dir = '/home/ubuntu/praxi/version_detection/version_results/all_results'\n",
    "from os import listdir\n",
    "from os.path import isfile, join\n",
    "fnames = [f for f in listdir(result_dir) if (isfile(join(result_dir, f)) and f[-2:]=='.p')]"
   ]
  },
  {
   "cell_type": "code",
   "execution_count": 2,
   "metadata": {},
   "outputs": [
    {
     "name": "stdout",
     "output_type": "stream",
     "text": [
      "['single_test-5.p', 'single_test-10.p', 'single_test-0.p', 'single_test-4.p', 'single_test-8.p', 'single_test-1.p', 'single_test-2.p', 'single_test-3.p', 'single_test-7.p', 'single_test-9.p', 'single_test-6.p', 'single_test-11.p']\n"
     ]
    }
   ],
   "source": [
    "print(fnames)"
   ]
  },
  {
   "cell_type": "code",
   "execution_count": 6,
   "metadata": {},
   "outputs": [],
   "source": [
    "import pickle\n",
    "all_results = []\n",
    "for name in fnames:\n",
    "    resfile = result_dir + '/' + name\n",
    "    with open(resfile, 'rb') as f:\n",
    "        results = pickle.load(f)\n",
    "    all_results.append(results)"
   ]
  },
  {
   "cell_type": "code",
   "execution_count": 11,
   "metadata": {},
   "outputs": [
    {
     "name": "stdout",
     "output_type": "stream",
     "text": [
      "12\n",
      "10\n",
      "2\n",
      "18\n"
     ]
    }
   ],
   "source": [
    "print(len(all_results))\n",
    "print(len(all_results[0]))\n",
    "print(len(all_results[0][0]))\n",
    "print(len(all_results[0][0][0]))"
   ]
  },
  {
   "cell_type": "code",
   "execution_count": 12,
   "metadata": {},
   "outputs": [
    {
     "name": "stdout",
     "output_type": "stream",
     "text": [
      "12\n"
     ]
    }
   ],
   "source": [
    "# make two lists, labels, preds\n",
    "fold_tuples = []\n",
    "for i in all_results:\n",
    "    fold_tuples.append(i)\n",
    "    \n",
    "print(len(fold_tuples))"
   ]
  },
  {
   "cell_type": "code",
   "execution_count": 26,
   "metadata": {},
   "outputs": [
    {
     "name": "stdout",
     "output_type": "stream",
     "text": [
      "1730\n",
      "1730\n"
     ]
    }
   ],
   "source": [
    "all_labels = []\n",
    "all_preds = []\n",
    "for i in all_results[0:10]:\n",
    "    for j in i:\n",
    "        labels = j[0]\n",
    "        preds = j[1]\n",
    "        all_labels.extend(labels)\n",
    "        all_preds.extend(preds)\n",
    "print(len(all_labels))\n",
    "print(len(all_preds))"
   ]
  },
  {
   "cell_type": "code",
   "execution_count": 27,
   "metadata": {},
   "outputs": [
    {
     "name": "stdout",
     "output_type": "stream",
     "text": [
      "dcraw9.19-1.1ubuntu1 crda1.1.2-1ubuntu2\n",
      "crda1.1.2-1ubuntu2 dcraw9.19-1.1ubuntu1\n",
      "dcraw9.19-1.1ubuntu1 crda1.1.2-1ubuntu2\n",
      "dcraw9.19-1.1ubuntu1 crda1.1.2-1ubuntu2\n",
      "dcraw9.19-1.1ubuntu1 crda1.1.2-1ubuntu2\n",
      "crda1.1.2-1ubuntu2 dcraw9.19-1.1ubuntu1\n",
      "crda1.1.2-1ubuntu2 dcraw9.19-1.1ubuntu1\n"
     ]
    }
   ],
   "source": [
    "wrong_preds = 0 \n",
    "for label, pred in zip(all_labels, all_preds):\n",
    "    if label != pred:\n",
    "        wrong_preds +=1\n",
    "        if label[0:3] != pred[0:3]:\n",
    "            print(label, pred)"
   ]
  },
  {
   "cell_type": "code",
   "execution_count": 28,
   "metadata": {},
   "outputs": [
    {
     "name": "stdout",
     "output_type": "stream",
     "text": [
      "177\n"
     ]
    }
   ],
   "source": [
    "print(wrong_preds)"
   ]
  },
  {
   "cell_type": "code",
   "execution_count": 25,
   "metadata": {},
   "outputs": [
    {
     "name": "stdout",
     "output_type": "stream",
     "text": [
      "[0, 1, 2, 3]\n"
     ]
    }
   ],
   "source": [
    "vec_test = [0,1,2,3,4,5,6,7,8,9,10]\n",
    "print(vec_test[0:4])"
   ]
  },
  {
   "cell_type": "code",
   "execution_count": null,
   "metadata": {},
   "outputs": [],
   "source": [
    "# Dictionary similarity\n"
   ]
  }
 ],
 "metadata": {
  "kernelspec": {
   "display_name": "Python 3",
   "language": "python",
   "name": "python3"
  },
  "language_info": {
   "codemirror_mode": {
    "name": "ipython",
    "version": 3
   },
   "file_extension": ".py",
   "mimetype": "text/x-python",
   "name": "python",
   "nbconvert_exporter": "python",
   "pygments_lexer": "ipython3",
   "version": "3.6.8"
  }
 },
 "nbformat": 4,
 "nbformat_minor": 2
}
