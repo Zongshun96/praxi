{
 "cells": [
  {
   "cell_type": "markdown",
   "metadata": {},
   "source": [
    "# Week 4:\n",
    "Goals:\n",
    "* Finish ubuntu VM configuration\n",
    "* Run multilabel experiments\n",
    "* Define workflow\n",
    "* Create columbus script\n",
    "    * This script will change changesets into tagsets\n",
    "    \n",
    "### 2/19/2019\n",
    "Met with Anthony to fix some issues concerning VW. \n",
    "Steps in open source code installation (Linux)\n",
    "1. ./config\n",
    "2. make clean\n",
    "3. make\n",
    "\n",
    "We discussed what a fully \"cleaned up\" version of Praxi would look like. Ideally, there would be a single script that you could give command line parameters and would never have to change the source code to run a different experiment. In order to do this, the desired input and output formats must be well-defined. \n",
    "    \n",
    "### 2/20/2019\n",
    "\n",
    "Ran multilabel experiments on ubuntu VM.\n"
   ]
  },
  {
   "cell_type": "code",
   "execution_count": 1,
   "metadata": {},
   "outputs": [
    {
     "name": "stdout",
     "output_type": "stream",
     "text": [
      "/home/ubuntu/praxi/week4\r\n"
     ]
    }
   ],
   "source": [
    "! pwd"
   ]
  },
  {
   "cell_type": "code",
   "execution_count": 2,
   "metadata": {},
   "outputs": [
    {
     "name": "stdout",
     "output_type": "stream",
     "text": [
      "# MULTILABEL EXPERIMENT REPORT\r\n",
      "# Generated Thu Feb 21 03:14:38 2019\r\n",
      "#\r\n",
      "#\r\n",
      "# Args: -b 26 --learning_rate 1.5 --passes 10 --csoaa 83 --kill_cache --cache_file a.cache\r\n",
      "#\r\n",
      "# 3 FOLD CROSS VALIDATION WITH 3000 CHANGESETS\r\n",
      "# F1 SCORE : 0.910 weighted, 0.909 micro-avg'd, 0.897 macro-avg'd\r\n",
      "# PRECISION: 0.916 weighted, 0.909 micro-avg'd, 0.908 macro-avg'd\r\n",
      "# RECALL   : 0.909 weighted, 0.909 micro-avg'd, 0.893 macro-avg'd\r\n"
     ]
    }
   ],
   "source": [
    "! head -10 results/0.txt"
   ]
  },
  {
   "cell_type": "code",
   "execution_count": 3,
   "metadata": {},
   "outputs": [
    {
     "name": "stdout",
     "output_type": "stream",
     "text": [
      "# MULTILABEL EXPERIMENT REPORT\r\n",
      "# Generated Thu Feb 21 03:14:38 2019\r\n",
      "#\r\n",
      "#\r\n",
      "# Args: -b 26 --learning_rate 1.5 --passes 10 --csoaa 83 --kill_cache --cache_file a.cache\r\n",
      "#\r\n",
      "# 3 FOLD CROSS VALIDATION WITH 3000 CHANGESETS\r\n",
      "# F1 SCORE : 0.956 weighted, 0.955 micro-avg'd, 0.938 macro-avg'd\r\n",
      "# PRECISION: 0.959 weighted, 0.955 micro-avg'd, 0.951 macro-avg'd\r\n",
      "# RECALL   : 0.955 weighted, 0.955 micro-avg'd, 0.934 macro-avg'd\r\n"
     ]
    }
   ],
   "source": [
    "! head -10 results/1.txt"
   ]
  },
  {
   "cell_type": "code",
   "execution_count": 4,
   "metadata": {},
   "outputs": [
    {
     "name": "stdout",
     "output_type": "stream",
     "text": [
      "# MULTILABEL EXPERIMENT REPORT\r\n",
      "# Generated Thu Feb 21 03:14:39 2019\r\n",
      "#\r\n",
      "#\r\n",
      "# Args: -b 26 --learning_rate 1.5 --passes 10 --csoaa 83 --kill_cache --cache_file a.cache\r\n",
      "#\r\n",
      "# 3 FOLD CROSS VALIDATION WITH 3000 CHANGESETS\r\n",
      "# F1 SCORE : 0.974 weighted, 0.974 micro-avg'd, 0.959 macro-avg'd\r\n",
      "# PRECISION: 0.976 weighted, 0.974 micro-avg'd, 0.966 macro-avg'd\r\n",
      "# RECALL   : 0.974 weighted, 0.974 micro-avg'd, 0.956 macro-avg'd\r\n"
     ]
    }
   ],
   "source": [
    "! head -10 results/2.txt"
   ]
  },
  {
   "cell_type": "code",
   "execution_count": 5,
   "metadata": {},
   "outputs": [
    {
     "name": "stdout",
     "output_type": "stream",
     "text": [
      "# MULTILABEL EXPERIMENT REPORT\r\n",
      "# Generated Thu Feb 21 03:14:39 2019\r\n",
      "#\r\n",
      "#\r\n",
      "# Args: -b 26 --learning_rate 1.5 --passes 10 --csoaa 83 --kill_cache --cache_file a.cache\r\n",
      "#\r\n",
      "# 3 FOLD CROSS VALIDATION WITH 3000 CHANGESETS\r\n",
      "# F1 SCORE : 0.979 weighted, 0.979 micro-avg'd, 0.974 macro-avg'd\r\n",
      "# PRECISION: 0.981 weighted, 0.979 micro-avg'd, 0.982 macro-avg'd\r\n",
      "# RECALL   : 0.979 weighted, 0.979 micro-avg'd, 0.970 macro-avg'd\r\n"
     ]
    }
   ],
   "source": [
    "! head -10 results/3.txt"
   ]
  },
  {
   "cell_type": "code",
   "execution_count": 6,
   "metadata": {},
   "outputs": [],
   "source": [
    "f1_scores = [0.910, 0.956, 0.974, 0.979]"
   ]
  },
  {
   "cell_type": "code",
   "execution_count": 7,
   "metadata": {},
   "outputs": [],
   "source": [
    "dirty_cs = [0, 1000, 2000, 3000]"
   ]
  },
  {
   "cell_type": "code",
   "execution_count": 10,
   "metadata": {},
   "outputs": [
    {
     "data": {
      "image/png": "[encoded data removed]",
      "text/plain": [
       "<Figure size 640x480 with 1 Axes>"
      ]
     },
     "metadata": {},
     "output_type": "display_data"
    }
   ],
   "source": [
    "import matplotlib.pyplot as plt; plt.rcdefaults()\n",
    "import numpy as np\n",
    "import matplotlib.pyplot as plt\n",
    " \n",
    "objects = ('0', '1000', '2000', '3000')\n",
    "y_pos = np.arange(len(objects))\n",
    "#performance = [10,8,6,4,2,1]\n",
    " \n",
    "plt.bar(y_pos, f1_scores, align='center', alpha=0.5)\n",
    "plt.xticks(y_pos, objects)\n",
    "plt.ylabel('F1-Scores')\n",
    "plt.xlabel('Number of Single-Label Training Samples')\n",
    " \n",
    "plt.show()"
   ]
  },
  {
   "cell_type": "code",
   "execution_count": null,
   "metadata": {},
   "outputs": [],
   "source": []
  }
 ],
 "metadata": {
  "kernelspec": {
   "display_name": "Python 3",
   "language": "python",
   "name": "python3"
  },
  "language_info": {
   "codemirror_mode": {
    "name": "ipython",
    "version": 3
   },
   "file_extension": ".py",
   "mimetype": "text/x-python",
   "name": "python",
   "nbconvert_exporter": "python",
   "pygments_lexer": "ipython3",
   "version": "3.6.7"
  }
 },
 "nbformat": 4,
 "nbformat_minor": 2
}
