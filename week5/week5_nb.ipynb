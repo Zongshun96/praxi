{
 "cells": [
  {
   "cell_type": "markdown",
   "metadata": {},
   "source": [
    "# Week 5\n",
    "### Goals:\n",
    "* Create a test list of changesets: 100 from the changesets cache"
   ]
  },
  {
   "cell_type": "code",
   "execution_count": 1,
   "metadata": {},
   "outputs": [],
   "source": [
    "# Get complete list of changesets in '/home/ubuntu/caches/changesets'\n",
    "from os import listdir\n",
    "from os.path import isfile, join\n",
    "\n",
    "cs_path = '/home/ubuntu/caches/changesets'\n",
    "all_files = [f for f in listdir(cs_path) if isfile(join(cs_path, f))]"
   ]
  },
  {
   "cell_type": "code",
   "execution_count": 2,
   "metadata": {},
   "outputs": [
    {
     "name": "stdout",
     "output_type": "stream",
     "text": [
      "35380\n"
     ]
    }
   ],
   "source": [
    "print(len(all_files))"
   ]
  },
  {
   "cell_type": "code",
   "execution_count": 3,
   "metadata": {},
   "outputs": [],
   "source": [
    "# remove multiapp changesets (For now)\n",
    "no_multi = []\n",
    "for cs_name in all_files:\n",
    "    if \"multiapp\" not in cs_name: \n",
    "        no_multi.append(cs_name)"
   ]
  },
  {
   "cell_type": "code",
   "execution_count": 4,
   "metadata": {},
   "outputs": [
    {
     "name": "stdout",
     "output_type": "stream",
     "text": [
      "31330\n"
     ]
    }
   ],
   "source": [
    "print(len(no_multi))"
   ]
  },
  {
   "cell_type": "code",
   "execution_count": 5,
   "metadata": {},
   "outputs": [],
   "source": [
    "import random\n",
    "rand_idxs = random.sample(range(0, 31329), 100)"
   ]
  },
  {
   "cell_type": "code",
   "execution_count": 6,
   "metadata": {},
   "outputs": [
    {
     "name": "stdout",
     "output_type": "stream",
     "text": [
      "[7227, 11411, 10927, 4801, 21263, 16463, 10148, 3552, 4417, 4090, 25451, 3429, 25120, 17445, 320, 19146, 14840, 26328, 8920, 12250, 12947, 10818, 22906, 2486, 2233, 8641, 25471, 16355, 19252, 997, 21446, 10612, 26941, 9255, 8177, 14427, 7367, 31042, 21280, 21493, 19945, 703, 31197, 9976, 19271, 21205, 25857, 12405, 1343, 24302, 26582, 27495, 6683, 2074, 9093, 5793, 15971, 28115, 20798, 5796, 21550, 20341, 25529, 28920, 4142, 17385, 17914, 11276, 10059, 24148, 27057, 24333, 13493, 15951, 5686, 21751, 18200, 27575, 16900, 3738, 7909, 22364, 21035, 30112, 30382, 29652, 26690, 15284, 6295, 19387, 10587, 28206, 30044, 19931, 8065, 207, 15033, 12994, 7099, 27414]\n"
     ]
    }
   ],
   "source": [
    "print(rand_idxs)"
   ]
  },
  {
   "cell_type": "code",
   "execution_count": 8,
   "metadata": {},
   "outputs": [
    {
     "name": "stdout",
     "output_type": "stream",
     "text": [
      "['virt-top.24804.rp.ubx.ts.yaml', 'finger.26996.rp.ubx.ts.yaml', 'python3.103226.vd.ubx.tr.yaml', 'powertop.2630.rp.ubx.tr.yaml', 'tomcat7.28732.rp.ubx.ts.yaml', 'ksh.25379.rp.ubx.ts.yaml', 'logwatch.4485.rp.ubx.tr.yaml', 'finger.9490.rp.ubx.tr.yaml', 'crda.7368.rp.ubx.tr.yaml', 'paps.28648.rp.ubx.ts.yaml', 'memcached.5727.rp.ubx.tr.yaml', 'lshw.6145.rp.ubx.tr.yaml', 'vsftpd.98675.mi.ubx.ts.yaml', 'qrencode.2496.rp.ubx.tr.yaml', 'nmap.99725.mi.ubx.tr.yaml', 'cobertura.6631.rp.ubx.tr.yaml', 'python3.103672.vd.ubx.tr.yaml', 'p7zip.99546.mi.ubx.ts.yaml', 'apache2.18551.rp.ubx.ts.yaml', 'bash1.104043.vd.ubx.tr.yaml', 'nmap.100135.mi.ubx.tr.yaml', 'pax.5203.rp.ubx.tr.yaml', 'bind9.19119.rp.ubx.ts.yaml', 'openssl2.104882.vd.ubx.ts.yaml', 'pax.24263.rp.ubx.ts.yaml', 'mstflint.10349.rp.ubx.tr.yaml', 'lftp.9699.rp.ubx.tr.yaml', 'virt-top.8130.rp.ubx.tr.yaml', 'tshark.32349.rp.ubx.ts.yaml', 'nmap.20723.rp.ubx.ts.yaml', 'samba.5274.rp.ubx.tr.yaml', 'arpwatch.22082.rp.ubx.ts.yaml', 'mosh.101392.mi.ubx.tr.yaml', 'nasm.27880.rp.ubx.ts.yaml', 'amanda-server.24611.rp.ubx.ts.yaml', 'cups.12492.rp.ubx.tr.yaml', 'vsftpd.98398.mi.ubx.ts.yaml', 'mailman.1424.rp.ubx.tr.yaml', 'mosh.100680.mi.ubx.ts.yaml', 'django.102360.mi.ubx.tr.yaml', 'memcached.38633.yaml', 'openssl4.105141.vd.ubx.ts.yaml', 'amanda-server.19143.rp.ubx.ts.yaml', 'autotrace.4194.rp.ubx.tr.yaml', 'apache2.15844.rp.ubx.tr.yaml', 'zsh.27211.yaml', 'sysstat.3500.rp.ubx.tr.yaml', 'linux45.102935.vd.ubx.tr.yaml', 'rdist.10844.rp.ubx.tr.yaml', 'dwz.1732.rp.ubx.tr.yaml', 'smartmontools.18019.rp.ubx.ts.yaml', 'php.23322.rp.ubx.ts.yaml', 'glibc6.7.106115.vd.ubx.ts.yaml', 'traceroute.25288.rp.ubx.ts.yaml', 'mariadb-server.34335.yaml', 'rrdtool.5197.rp.ubx.tr.yaml', 'dovecot-core.26532.rp.ubx.ts.yaml', 'watchdog.19574.rp.ubx.ts.yaml', 'wget.8260.rp.ubx.tr.yaml', 'nasm.28582.rp.ubx.ts.yaml', 'tree.22694.rp.ubx.ts.yaml', 'gitweb.6064.rp.ubx.tr.yaml', 'sysstat.25402.yaml', 'glibc6.6.104314.vd.ubx.tr.yaml', 'memcached.24383.yaml', 'iotop.18020.rp.ubx.ts.yaml', 'trac.102125.mi.ubx.tr.yaml', 'vsftpd.7032.rp.ubx.tr.yaml', 'dovecot-core.22103.rp.ubx.ts.yaml', 'lftp.1254.rp.ubx.tr.yaml', 'pax.5317.rp.ubx.tr.yaml', 'transfig.11963.rp.ubx.tr.yaml', 'nmap.10339.rp.ubx.tr.yaml', 'emacs-nox.26037.yaml', 'vsftpd.107980.yaml', 'wordpress.100264.mi.ubx.ts.yaml', 'gitweb.1716.rp.ubx.tr.yaml', 'bacula-client.24347.rp.ubx.ts.yaml', 'nmap.100470.mi.ubx.ts.yaml', 'iotop.21194.rp.ubx.ts.yaml', 'virt-top.21962.rp.ubx.ts.yaml', 'iptraf-ng.8377.rp.ubx.tr.yaml', 'subversion.98686.mi.ubx.ts.yaml', 'squid.20186.rp.ubx.ts.yaml', 'bind9.25829.rp.ubx.ts.yaml', 'lftp.22425.rp.ubx.ts.yaml', 'iotop.26439.rp.ubx.ts.yaml', 'freeradius.13923.rp.ubx.tr.yaml', 'glibc6.6.106042.vd.ubx.ts.yaml', 'unbound.8677.rp.ubx.tr.yaml', 'iptraf-ng.28177.rp.ubx.ts.yaml', 'iptraf-ng.18511.rp.ubx.ts.yaml', 'watchdog.13925.rp.ubx.tr.yaml', 'subversion.99125.mi.ubx.tr.yaml', 'mtr.5576.rp.ubx.tr.yaml', 'unbound.10952.rp.ubx.tr.yaml', 'gpm.9711.rp.ubx.tr.yaml', 'mosh.101363.mi.ubx.tr.yaml', 'python3.105303.vd.ubx.ts.yaml', 'php.21851.yaml']\n"
     ]
    }
   ],
   "source": [
    "rand_changesets = [no_multi[i] for i in rand_idxs]\n",
    "print(rand_changesets)"
   ]
  },
  {
   "cell_type": "code",
   "execution_count": 16,
   "metadata": {},
   "outputs": [
    {
     "name": "stdout",
     "output_type": "stream",
     "text": [
      "100\n"
     ]
    }
   ],
   "source": [
    "full_paths = []\n",
    "for cs in rand_changesets:\n",
    "    curpath = '/home/ubuntu/caches/changesets/' + cs\n",
    "    full_paths.append(curpath)\n",
    "print(len(full_paths))\n"
   ]
  },
  {
   "cell_type": "code",
   "execution_count": 19,
   "metadata": {},
   "outputs": [
    {
     "name": "stdout",
     "output_type": "stream",
     "text": [
      "Adding file\n",
      "Adding file\n",
      "Adding file\n",
      "Adding file\n",
      "Adding file\n",
      "Adding file\n",
      "Adding file\n",
      "Adding file\n",
      "Adding file\n",
      "Adding file\n",
      "Adding file\n",
      "Adding file\n",
      "Adding file\n",
      "Adding file\n",
      "Adding file\n",
      "Adding file\n",
      "Adding file\n",
      "Adding file\n",
      "Adding file\n",
      "Adding file\n",
      "Adding file\n",
      "Adding file\n",
      "Adding file\n",
      "Adding file\n",
      "Adding file\n",
      "Adding file\n",
      "Adding file\n",
      "Adding file\n",
      "Adding file\n",
      "Adding file\n",
      "Adding file\n",
      "Adding file\n",
      "Adding file\n",
      "Adding file\n",
      "Adding file\n",
      "Adding file\n",
      "Adding file\n",
      "Adding file\n",
      "Adding file\n",
      "Adding file\n",
      "Adding file\n",
      "Adding file\n",
      "Adding file\n",
      "Adding file\n",
      "Adding file\n",
      "Adding file\n",
      "Adding file\n",
      "Adding file\n",
      "Adding file\n",
      "Adding file\n",
      "Adding file\n",
      "Adding file\n",
      "Adding file\n",
      "Adding file\n",
      "Adding file\n",
      "Adding file\n",
      "Adding file\n",
      "Adding file\n",
      "Adding file\n",
      "Adding file\n",
      "Adding file\n",
      "Adding file\n",
      "Adding file\n",
      "Adding file\n",
      "Adding file\n",
      "Adding file\n",
      "Adding file\n",
      "Adding file\n",
      "Adding file\n",
      "Adding file\n",
      "Adding file\n",
      "Adding file\n",
      "Adding file\n",
      "Adding file\n",
      "Adding file\n",
      "Adding file\n",
      "Adding file\n",
      "Adding file\n",
      "Adding file\n",
      "Adding file\n",
      "Adding file\n",
      "Adding file\n",
      "Adding file\n",
      "Adding file\n",
      "Adding file\n",
      "Adding file\n",
      "Adding file\n",
      "Adding file\n",
      "Adding file\n",
      "Adding file\n",
      "Adding file\n",
      "Adding file\n",
      "Adding file\n",
      "Adding file\n",
      "Adding file\n",
      "Adding file\n",
      "Adding file\n",
      "Adding file\n",
      "Adding file\n",
      "Adding file\n"
     ]
    }
   ],
   "source": [
    "destination = '/home/ubuntu/praxi/week5/changeset_sub'\n",
    "\n",
    "import shutil\n",
    "import os\n",
    "for file_name in full_paths:\n",
    "    #print(file_name)\n",
    "    if (os.path.isfile(file_name)):\n",
    "        #print(\"Adding file\")\n",
    "        shutil.copy(file_name, destination)"
   ]
  },
  {
   "cell_type": "code",
   "execution_count": null,
   "metadata": {},
   "outputs": [],
   "source": []
  }
 ],
 "metadata": {
  "kernelspec": {
   "display_name": "Python 3",
   "language": "python",
   "name": "python3"
  },
  "language_info": {
   "codemirror_mode": {
    "name": "ipython",
    "version": 3
   },
   "file_extension": ".py",
   "mimetype": "text/x-python",
   "name": "python",
   "nbconvert_exporter": "python",
   "pygments_lexer": "ipython3",
   "version": "3.6.7"
  }
 },
 "nbformat": 4,
 "nbformat_minor": 2
}
